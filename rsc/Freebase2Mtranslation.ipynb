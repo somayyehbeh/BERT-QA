{
  "nbformat": 4,
  "nbformat_minor": 0,
  "metadata": {
    "colab": {
      "name": "Freebase2Mtranslation.ipynb",
      "provenance": [],
      "collapsed_sections": [],
      "include_colab_link": true
    },
    "kernelspec": {
      "display_name": "Python 3",
      "language": "python",
      "name": "python3"
    },
    "language_info": {
      "codemirror_mode": {
        "name": "ipython",
        "version": 3
      },
      "file_extension": ".py",
      "mimetype": "text/x-python",
      "name": "python",
      "nbconvert_exporter": "python",
      "pygments_lexer": "ipython3",
      "version": "3.7.9"
    }
  },
  "cells": [
    {
      "cell_type": "markdown",
      "metadata": {
        "id": "view-in-github",
        "colab_type": "text"
      },
      "source": [
        "<a href=\"https://colab.research.google.com/github/meti-94/BERT-QA/blob/main/Freebase2Mtranslation.ipynb\" target=\"_parent\"><img src=\"https://colab.research.google.com/assets/colab-badge.svg\" alt=\"Open In Colab\"/></a>"
      ]
    },
    {
      "cell_type": "code",
      "metadata": {
        "colab": {
          "base_uri": "https://localhost:8080/"
        },
        "id": "jBVEcMjEh2xs",
        "outputId": "e563fd99-66e1-47f0-98dc-f6ca27c59ff5"
      },
      "source": [
        "!git clone https://github.com/castorini/BuboQA.git"
      ],
      "execution_count": null,
      "outputs": [
        {
          "output_type": "stream",
          "text": [
            "Cloning into 'BuboQA'...\n",
            "remote: Enumerating objects: 1383, done.\u001b[K\n",
            "remote: Total 1383 (delta 0), reused 0 (delta 0), pack-reused 1383\u001b[K\n",
            "Receiving objects: 100% (1383/1383), 361.07 KiB | 20.06 MiB/s, done.\n",
            "Resolving deltas: 100% (908/908), done.\n"
          ],
          "name": "stdout"
        }
      ]
    },
    {
      "cell_type": "code",
      "metadata": {
        "colab": {
          "base_uri": "https://localhost:8080/"
        },
        "id": "MKQCiupzzffW",
        "outputId": "6b10d9d3-c942-4c61-eef5-3072302cb91a"
      },
      "source": [
        "!pip install fuzzywuzzy\n",
        "%cd ./BuboQA\n",
        "!bash setup.sh \n"
      ],
      "execution_count": null,
      "outputs": [
        {
          "output_type": "stream",
          "text": [
            "Collecting fuzzywuzzy\n",
            "  Downloading https://files.pythonhosted.org/packages/43/ff/74f23998ad2f93b945c0309f825be92e04e0348e062026998b5eefef4c33/fuzzywuzzy-0.18.0-py2.py3-none-any.whl\n",
            "Installing collected packages: fuzzywuzzy\n",
            "Successfully installed fuzzywuzzy-0.18.0\n",
            "/content/BuboQA\n",
            "Running fetch_dataset script\n",
            "Downloading SimpleQuestions dataset...\n",
            "\n",
            "--2021-05-24 18:26:51--  https://git.uwaterloo.ca/jimmylin/BuboQA-data/raw/master/SimpleQuestions_v2.tgz\n",
            "Resolving git.uwaterloo.ca (git.uwaterloo.ca)... 129.97.83.4\n",
            "Connecting to git.uwaterloo.ca (git.uwaterloo.ca)|129.97.83.4|:443... connected.\n",
            "HTTP request sent, awaiting response... 200 OK\n",
            "Length: 423435590 (404M) [application/x-gzip]\n",
            "Saving to: ‘SimpleQuestions_v2.tgz’\n",
            "\n",
            "SimpleQuestions_v2. 100%[===================>] 403.82M   101MB/s    in 4.2s    \n",
            "\n",
            "2021-05-24 18:27:00 (97.2 MB/s) - ‘SimpleQuestions_v2.tgz’ saved [423435590/423435590]\n",
            "\n",
            "\n",
            "\n",
            "Unzipping SimpleQuestions dataset...\n",
            "\n",
            "tar: Ignoring unknown extended header keyword 'SCHILY.dev'\n",
            "tar: Ignoring unknown extended header keyword 'SCHILY.ino'\n",
            "tar: Ignoring unknown extended header keyword 'SCHILY.nlink'\n",
            "./._SimpleQuestions_v2\n",
            "tar: Ignoring unknown extended header keyword 'LIBARCHIVE.creationtime'\n",
            "tar: Ignoring unknown extended header keyword 'SCHILY.dev'\n",
            "tar: Ignoring unknown extended header keyword 'SCHILY.ino'\n",
            "tar: Ignoring unknown extended header keyword 'SCHILY.nlink'\n",
            "SimpleQuestions_v2/\n",
            "tar: Ignoring unknown extended header keyword 'SCHILY.dev'\n",
            "tar: Ignoring unknown extended header keyword 'SCHILY.ino'\n",
            "tar: Ignoring unknown extended header keyword 'SCHILY.nlink'\n",
            "SimpleQuestions_v2/._annotated_fb_data_test.txt\n",
            "tar: Ignoring unknown extended header keyword 'LIBARCHIVE.creationtime'\n",
            "tar: Ignoring unknown extended header keyword 'SCHILY.dev'\n",
            "tar: Ignoring unknown extended header keyword 'SCHILY.ino'\n",
            "tar: Ignoring unknown extended header keyword 'SCHILY.nlink'\n",
            "SimpleQuestions_v2/annotated_fb_data_test.txt\n",
            "tar: Ignoring unknown extended header keyword 'SCHILY.dev'\n",
            "tar: Ignoring unknown extended header keyword 'SCHILY.ino'\n",
            "tar: Ignoring unknown extended header keyword 'SCHILY.nlink'\n",
            "SimpleQuestions_v2/._annotated_fb_data_train.txt\n",
            "tar: Ignoring unknown extended header keyword 'LIBARCHIVE.creationtime'\n",
            "tar: Ignoring unknown extended header keyword 'SCHILY.dev'\n",
            "tar: Ignoring unknown extended header keyword 'SCHILY.ino'\n",
            "tar: Ignoring unknown extended header keyword 'SCHILY.nlink'\n",
            "SimpleQuestions_v2/annotated_fb_data_train.txt\n",
            "tar: Ignoring unknown extended header keyword 'SCHILY.dev'\n",
            "tar: Ignoring unknown extended header keyword 'SCHILY.ino'\n",
            "tar: Ignoring unknown extended header keyword 'SCHILY.nlink'\n",
            "SimpleQuestions_v2/._annotated_fb_data_valid.txt\n",
            "tar: Ignoring unknown extended header keyword 'LIBARCHIVE.creationtime'\n",
            "tar: Ignoring unknown extended header keyword 'SCHILY.dev'\n",
            "tar: Ignoring unknown extended header keyword 'SCHILY.ino'\n",
            "tar: Ignoring unknown extended header keyword 'SCHILY.nlink'\n",
            "SimpleQuestions_v2/annotated_fb_data_valid.txt\n",
            "tar: Ignoring unknown extended header keyword 'LIBARCHIVE.creationtime'\n",
            "tar: Ignoring unknown extended header keyword 'SCHILY.dev'\n",
            "tar: Ignoring unknown extended header keyword 'SCHILY.ino'\n",
            "tar: Ignoring unknown extended header keyword 'SCHILY.nlink'\n",
            "SimpleQuestions_v2/freebase-subsets/\n",
            "tar: Ignoring unknown extended header keyword 'SCHILY.dev'\n",
            "tar: Ignoring unknown extended header keyword 'SCHILY.ino'\n",
            "tar: Ignoring unknown extended header keyword 'SCHILY.nlink'\n",
            "SimpleQuestions_v2/._LICENSE.txt\n",
            "tar: Ignoring unknown extended header keyword 'LIBARCHIVE.creationtime'\n",
            "tar: Ignoring unknown extended header keyword 'SCHILY.dev'\n",
            "tar: Ignoring unknown extended header keyword 'SCHILY.ino'\n",
            "tar: Ignoring unknown extended header keyword 'SCHILY.nlink'\n",
            "SimpleQuestions_v2/LICENSE.txt\n",
            "tar: Ignoring unknown extended header keyword 'LIBARCHIVE.creationtime'\n",
            "tar: Ignoring unknown extended header keyword 'SCHILY.dev'\n",
            "tar: Ignoring unknown extended header keyword 'SCHILY.ino'\n",
            "tar: Ignoring unknown extended header keyword 'SCHILY.nlink'\n",
            "SimpleQuestions_v2/README.txt\n",
            "tar: Ignoring unknown extended header keyword 'LIBARCHIVE.creationtime'\n",
            "tar: Ignoring unknown extended header keyword 'SCHILY.dev'\n",
            "tar: Ignoring unknown extended header keyword 'SCHILY.ino'\n",
            "tar: Ignoring unknown extended header keyword 'SCHILY.nlink'\n",
            "SimpleQuestions_v2/freebase-subsets/freebase-FB2M.txt\n",
            "tar: Ignoring unknown extended header keyword 'LIBARCHIVE.creationtime'\n",
            "tar: Ignoring unknown extended header keyword 'SCHILY.dev'\n",
            "tar: Ignoring unknown extended header keyword 'SCHILY.ino'\n",
            "tar: Ignoring unknown extended header keyword 'SCHILY.nlink'\n",
            "SimpleQuestions_v2/freebase-subsets/freebase-FB5M.txt\n",
            "Downloading Embeddings...\n",
            "\n",
            "--2021-05-24 18:28:13--  https://git.uwaterloo.ca/jimmylin/BuboQA-data/raw/master/sq_glove300d.pt\n",
            "Resolving git.uwaterloo.ca (git.uwaterloo.ca)... 129.97.83.4\n",
            "Connecting to git.uwaterloo.ca (git.uwaterloo.ca)|129.97.83.4|:443... connected.\n",
            "HTTP request sent, awaiting response... 200 OK\n",
            "Length: 63772772 (61M) [application/octet-stream]\n",
            "Saving to: ‘sq_glove300d.pt’\n",
            "\n",
            "sq_glove300d.pt     100%[===================>]  60.82M  83.0MB/s    in 0.7s    \n",
            "\n",
            "2021-05-24 18:28:15 (83.0 MB/s) - ‘sq_glove300d.pt’ saved [63772772/63772772]\n",
            "\n",
            "Downloading Features...\n",
            "\n",
            "--2021-05-24 18:28:15--  https://git.uwaterloo.ca/jimmylin/BuboQA-data/raw/master/feature4lr.zip\n",
            "Resolving git.uwaterloo.ca (git.uwaterloo.ca)... 129.97.83.4\n",
            "Connecting to git.uwaterloo.ca (git.uwaterloo.ca)|129.97.83.4|:443... connected.\n",
            "HTTP request sent, awaiting response... 200 OK\n",
            "Length: 192472025 (184M) [application/zip]\n",
            "Saving to: ‘feature4lr.zip’\n",
            "\n",
            "feature4lr.zip      100%[===================>] 183.55M  73.9MB/s    in 2.5s    \n",
            "\n",
            "2021-05-24 18:28:20 (73.9 MB/s) - ‘feature4lr.zip’ saved [192472025/192472025]\n",
            "\n",
            "Archive:  feature4lr.zip\n",
            "  inflating: lr_glove_rel_features/feature.test  \n",
            "  inflating: lr_glove_rel_features/feature.train  \n",
            "  inflating: lr_glove_rel_features/feature.valid  \n",
            "Downloading Mapping to wiki...\n",
            "\n",
            "--2021-05-24 18:28:35--  https://git.uwaterloo.ca/jimmylin/BuboQA-data/raw/master/fb2w.nt\n",
            "Resolving git.uwaterloo.ca (git.uwaterloo.ca)... 129.97.83.4\n",
            "Connecting to git.uwaterloo.ca (git.uwaterloo.ca)|129.97.83.4|:443... connected.\n",
            "HTTP request sent, awaiting response... 200 OK\n",
            "Length: 254669084 (243M) [text/plain]\n",
            "Saving to: ‘fb2w.nt’\n",
            "\n",
            "fb2w.nt             100%[===================>] 242.87M  77.5MB/s    in 3.1s    \n",
            "\n",
            "2021-05-24 18:28:40 (77.5 MB/s) - ‘fb2w.nt’ saved [254669084/254669084]\n",
            "\n",
            "\n",
            "\n",
            "Downloading the names file...\n",
            "\n",
            "--2021-05-24 18:28:40--  https://git.uwaterloo.ca/jimmylin/BuboQA-data/raw/master/FB5M.name.txt.bz2\n",
            "Resolving git.uwaterloo.ca (git.uwaterloo.ca)... 129.97.83.4\n",
            "Connecting to git.uwaterloo.ca (git.uwaterloo.ca)|129.97.83.4|:443... connected.\n",
            "HTTP request sent, awaiting response... 200 OK\n",
            "Length: 66651588 (64M) [application/octet-stream]\n",
            "Saving to: ‘FB5M.name.txt.bz2’\n",
            "\n",
            "FB5M.name.txt.bz2   100%[===================>]  63.56M  44.8MB/s    in 1.4s    \n",
            "\n",
            "2021-05-24 18:28:42 (44.8 MB/s) - ‘FB5M.name.txt.bz2’ saved [66651588/66651588]\n",
            "\n",
            "\n",
            "\n",
            "Trimming the names file for subset 2M...\n",
            "\n",
            "Freebase subset: data/SimpleQuestions_v2/freebase-subsets/freebase-FB2M.txt\n",
            "Names file from CFO: data/freebase_names/FB5M.name.txt\n",
            "Output trimmed names file: data/freebase_names/names.trimmed.2M.txt\n",
            "getting all entity MIDs from Freebase subset...\n",
            "line: 0\n",
            "line: 1000000\n",
            "line: 2000000\n",
            "line: 3000000\n",
            "line: 4000000\n",
            "line: 5000000\n",
            "line: 6000000\n",
            "line: 7000000\n",
            "line: 8000000\n",
            "line: 9000000\n",
            "line: 10000000\n",
            "trimming names...\n",
            "line: 0\n",
            "line: 1000000\n",
            "line: 2000000\n",
            "line: 3000000\n",
            "line: 4000000\n",
            "line: 5000000\n",
            "Trimmed the names file.\n",
            "Create the names map index for 2M-freebase-subset...\n",
            "\n",
            "Names file path: data/freebase_names/names.trimmed.2M.txt\n",
            "Pickle output path: indexes/names_2M.pkl\n",
            "getting names map...\n",
            "line: 0\n",
            "line: 1000000\n",
            "line: 2000000\n",
            "Created the names index.\n",
            "\n",
            "\n",
            "Create processed, augmented dataset...\n",
            "\n",
            "/usr/local/lib/python3.7/dist-packages/fuzzywuzzy/fuzz.py:11: UserWarning: Using slow pure-python SequenceMatcher. Install python-Levenshtein to remove this warning\n",
            "  warnings.warn('Using slow pure-python SequenceMatcher. Install python-Levenshtein to remove this warning')\n",
            "Dataset: data/SimpleQuestions_v2\n",
            "Index - Names: indexes/names_2M.pkl\n",
            "Output: data/processed_simplequestions_dataset\n",
            "loading index from: indexes/names_2M.pkl\n",
            "creating new datasets...\n",
            "reading from data/SimpleQuestions_v2/annotated_fb_data_train.txt\n",
            "line: 0\n",
            "lineid train-439 - name not found. fb:m.0fzjr3p Skip\n",
            "lineid train-622 - name not found. fb:m.0dz8wx Skip\n",
            "lineid train-658 - name not found. fb:m.0_8982w Skip\n",
            "lineid train-1234 - name not found. fb:m.07m_vq Skip\n",
            "lineid train-1771 - name not found. fb:m.0318_03 Skip\n",
            "lineid train-1970 - name not found. fb:m.0dyvxvf Skip\n",
            "lineid train-2306 - name not found. fb:m.0lmk5l Skip\n",
            "lineid train-3004 - name not found. fb:m.0djb8lg Skip\n",
            "lineid train-3556 - name not found. fb:m.0lqhmfb Skip\n",
            "lineid train-4130 - name not found. fb:m.0zj79nx Skip\n",
            "lineid train-4688 - name not found. fb:m.01hh6cr Skip\n",
            "lineid train-5080 - name not found. fb:m.03whpdf Skip\n",
            "lineid train-5336 - name not found. fb:m.0k33swc Skip\n",
            "lineid train-5343 - name not found. fb:m.0_rs5qn Skip\n",
            "lineid train-5477 - name not found. fb:m.03whpdf Skip\n",
            "lineid train-5859 - name not found. fb:m.0dn4zj6 Skip\n",
            "lineid train-5871 - name not found. fb:m.01r33px Skip\n",
            "lineid train-6963 - name not found. fb:m.0ghvmn2 Skip\n",
            "lineid train-7425 - name not found. fb:m.026r5k7 Skip\n",
            "lineid train-7579 - name not found. fb:m.0185gpf Skip\n",
            "lineid train-7608 - name not found. fb:m.0wpj3tz Skip\n",
            "lineid train-7761 - name not found. fb:m.0_kd_78 Skip\n",
            "lineid train-8382 - name not found. fb:m.05f9062 Skip\n",
            "lineid train-8799 - name not found. fb:m.02kby38 Skip\n",
            "lineid train-9939 - name not found. fb:m.07xd4 Skip\n",
            "lineid train-10199 - name not found. fb:m.0kdxy97 Skip\n",
            "lineid train-10514 - name not found. fb:m.05n0276 Skip\n",
            "lineid train-10559 - name not found. fb:m.0lns8qj Skip\n",
            "lineid train-10669 - name not found. fb:m.0c03x2r Skip\n",
            "lineid train-10972 - name not found. fb:m.0bbhl2 Skip\n",
            "lineid train-10995 - name not found. fb:m.0wjc55v Skip\n",
            "lineid train-11257 - name not found. fb:m.0_jf3xs Skip\n",
            "lineid train-11628 - name not found. fb:m.0smw0jl Skip\n",
            "lineid train-11767 - name not found. fb:m.0ftmr4x Skip\n",
            "lineid train-12369 - name not found. fb:m.09wjv_ Skip\n",
            "lineid train-12507 - name not found. fb:m.01lp4t3 Skip\n",
            "lineid train-12715 - name not found. fb:m.0wznr96 Skip\n",
            "lineid train-12824 - name not found. fb:m.0w9c45l Skip\n",
            "lineid train-13224 - name not found. fb:m.036yp_6 Skip\n",
            "lineid train-13373 - name not found. fb:m.0jwgv1b Skip\n",
            "lineid train-13527 - name not found. fb:m.0vmysv4 Skip\n",
            "lineid train-13991 - name not found. fb:m.04fxlmx Skip\n",
            "lineid train-14194 - name not found. fb:m.0frw6z5 Skip\n",
            "lineid train-14756 - name not found. fb:m.0n6gqmf Skip\n",
            "lineid train-14850 - name not found. fb:m.02qqqtd Skip\n",
            "lineid train-15096 - name not found. fb:m.018wk4z Skip\n",
            "lineid train-15329 - name not found. fb:m.0135s2d Skip\n",
            "lineid train-16031 - name not found. fb:m.02h7hyr Skip\n",
            "lineid train-16145 - name not found. fb:m.0l76y8l Skip\n",
            "lineid train-16750 - name not found. fb:m.0gyrjjh Skip\n",
            "lineid train-17262 - name not found. fb:m.03h53dg Skip\n",
            "lineid train-17923 - name not found. fb:m.02pqq4j Skip\n",
            "lineid train-18483 - name not found. fb:m.04t50cr Skip\n",
            "lineid train-19149 - name not found. fb:m.01793jx Skip\n",
            "lineid train-19197 - name not found. fb:m.0f1q1b7 Skip\n",
            "lineid train-19371 - name not found. fb:m.0kd9z1j Skip\n",
            "lineid train-19923 - name not found. fb:m.0kynrjn Skip\n",
            "lineid train-19968 - name not found. fb:m.0rvgq2z Skip\n",
            "lineid train-20402 - name not found. fb:m.0gfgv_d Skip\n",
            "lineid train-20856 - name not found. fb:m.02hvshq Skip\n",
            "lineid train-20881 - name not found. fb:m.0ndpq5d Skip\n",
            "lineid train-21079 - name not found. fb:m.02kd3j2 Skip\n",
            "lineid train-21358 - name not found. fb:m.0gfgv_d Skip\n",
            "lineid train-21757 - name not found. fb:m.0djb9ln Skip\n",
            "lineid train-22022 - name not found. fb:m.0tnfs_7 Skip\n",
            "lineid train-22876 - name not found. fb:m.0mmrg0w Skip\n",
            "lineid train-23093 - name not found. fb:m.09vxjfw Skip\n",
            "lineid train-23800 - name not found. fb:m.02kc1nh Skip\n",
            "lineid train-24702 - name not found. fb:m.0hglp1p Skip\n",
            "lineid train-26613 - name not found. fb:m.03xy_kt Skip\n",
            "lineid train-26698 - name not found. fb:m.0gf5l4n Skip\n",
            "lineid train-26704 - name not found. fb:m.06bshn Skip\n",
            "lineid train-28235 - name not found. fb:m.02kcb4m Skip\n",
            "lineid train-29015 - name not found. fb:m.0frkct6 Skip\n",
            "lineid train-29186 - name not found. fb:m.0j93_x5 Skip\n",
            "lineid train-30217 - name not found. fb:m.0v1sqj6 Skip\n",
            "lineid train-30277 - name not found. fb:m.0ft9sk5 Skip\n",
            "lineid train-30349 - name not found. fb:m.03_nrrk Skip\n",
            "lineid train-30975 - name not found. fb:m.0djbg6m Skip\n",
            "lineid train-31000 - name not found. fb:m.0q8g37n Skip\n",
            "lineid train-31185 - name not found. fb:m.02x5_pr Skip\n",
            "lineid train-31597 - name not found. fb:m.0x3hs9b Skip\n",
            "lineid train-32182 - name not found. fb:m.0_kdlrp Skip\n",
            "lineid train-32397 - name not found. fb:m.0vwbwy Skip\n",
            "lineid train-32931 - name not found. fb:m.0hqxrsf Skip\n",
            "lineid train-33163 - name not found. fb:m.02ww_qc Skip\n",
            "lineid train-33492 - name not found. fb:m.0yb169k Skip\n",
            "lineid train-34047 - name not found. fb:m.0_rqnny Skip\n",
            "lineid train-34553 - name not found. fb:m.0lf79y Skip\n",
            "lineid train-34723 - name not found. fb:m.0sj26dn Skip\n",
            "lineid train-34912 - name not found. fb:m.0_sywhx Skip\n",
            "lineid train-35335 - name not found. fb:m.02wy5lc Skip\n",
            "lineid train-35358 - name not found. fb:m.0hqxrsf Skip\n",
            "lineid train-35469 - name not found. fb:m.0dpbrmz Skip\n",
            "lineid train-35524 - name not found. fb:m.0dr08bk Skip\n",
            "lineid train-35566 - name not found. fb:m.02h664x Skip\n",
            "lineid train-36865 - name not found. fb:m.0dswyx9 Skip\n",
            "lineid train-37064 - name not found. fb:m.0vc96hj Skip\n",
            "lineid train-37222 - name not found. fb:m.0kynd3j Skip\n",
            "lineid train-37974 - name not found. fb:m.0g6tq91 Skip\n",
            "lineid train-38022 - name not found. fb:m.02h664x Skip\n",
            "lineid train-38035 - name not found. fb:m.03xwypw Skip\n",
            "lineid train-38337 - name not found. fb:m.0_6djtp Skip\n",
            "lineid train-38666 - name not found. fb:m.0zbvxwj Skip\n",
            "lineid train-39106 - name not found. fb:m.0f3jvpm Skip\n",
            "lineid train-39318 - name not found. fb:m.023rmqq Skip\n",
            "lineid train-40898 - name not found. fb:m.0zhqwxs Skip\n",
            "lineid train-41031 - name not found. fb:m.01_jgb Skip\n",
            "lineid train-41405 - name not found. fb:m.06k9h8 Skip\n",
            "lineid train-41594 - name not found. fb:m.0y603xz Skip\n",
            "lineid train-42025 - name not found. fb:m.04vd3rl Skip\n",
            "lineid train-42049 - name not found. fb:m.0rs6mp4 Skip\n",
            "lineid train-43276 - name not found. fb:m.01x3j7r Skip\n",
            "lineid train-43564 - name not found. fb:m.0274slz Skip\n",
            "lineid train-43880 - name not found. fb:m.0x6kxjp Skip\n",
            "lineid train-44916 - name not found. fb:m.03whpdf Skip\n",
            "lineid train-45158 - name not found. fb:m.0gyk8tl Skip\n",
            "lineid train-45809 - name not found. fb:m.0sh4pjl Skip\n",
            "lineid train-46456 - name not found. fb:m.0fm7hh3 Skip\n",
            "lineid train-46770 - name not found. fb:m.0sppl08 Skip\n",
            "lineid train-47414 - name not found. fb:m.0ch8kqd Skip\n",
            "lineid train-47587 - name not found. fb:m.0w7cbr8 Skip\n",
            "lineid train-47741 - name not found. fb:m.01h0wn7 Skip\n",
            "lineid train-48002 - name not found. fb:m.0v36s9l Skip\n",
            "lineid train-48049 - name not found. fb:m.0_mtrfk Skip\n",
            "lineid train-48227 - name not found. fb:m.02x5zsw Skip\n",
            "lineid train-49673 - name not found. fb:m.0fzyrn_ Skip\n",
            "lineid train-50213 - name not found. fb:m.0_jf3xs Skip\n",
            "lineid train-50274 - name not found. fb:m.0_kd_78 Skip\n",
            "lineid train-50335 - name not found. fb:m.0crrv4f Skip\n",
            "lineid train-50915 - name not found. fb:m.0gxc234 Skip\n",
            "lineid train-51198 - name not found. fb:m.0f12rzg Skip\n",
            "lineid train-51372 - name not found. fb:m.0dtywr Skip\n",
            "lineid train-51626 - name not found. fb:m.05wrx38 Skip\n",
            "lineid train-51654 - name not found. fb:m.0c3ffj Skip\n",
            "lineid train-51719 - name not found. fb:m.0qt3xdy Skip\n",
            "lineid train-52876 - name not found. fb:m.0wyfx9s Skip\n",
            "lineid train-53064 - name not found. fb:m.02h664x Skip\n",
            "lineid train-53710 - name not found. fb:m.01w8rcl Skip\n",
            "lineid train-53914 - name not found. fb:m.0gh7mr8 Skip\n",
            "lineid train-54455 - name not found. fb:m.0fpdpgh Skip\n",
            "lineid train-55274 - name not found. fb:m.0c0mb7h Skip\n",
            "lineid train-55751 - name not found. fb:m.0pfx1x Skip\n",
            "lineid train-56208 - name not found. fb:m.0_vbksf Skip\n",
            "lineid train-56262 - name not found. fb:m.02qgvhg Skip\n",
            "lineid train-56333 - name not found. fb:m.09glxwc Skip\n",
            "lineid train-58167 - name not found. fb:m.01kt5b6 Skip\n",
            "lineid train-58264 - name not found. fb:m.09cm87 Skip\n",
            "lineid train-58745 - name not found. fb:m.0h2d0b8 Skip\n",
            "lineid train-59193 - name not found. fb:m.0_wjz54 Skip\n",
            "lineid train-59510 - name not found. fb:m.0slw743 Skip\n",
            "lineid train-59918 - name not found. fb:m.05n0276 Skip\n",
            "lineid train-59960 - name not found. fb:m.01jxwrn Skip\n",
            "lineid train-60025 - name not found. fb:m.0dtywr Skip\n",
            "lineid train-60952 - name not found. fb:m.059xkp_ Skip\n",
            "lineid train-61116 - name not found. fb:m.0b9t5pg Skip\n",
            "lineid train-61406 - name not found. fb:m.01ngk0 Skip\n",
            "lineid train-61422 - name not found. fb:m.0ymrldg Skip\n",
            "lineid train-61504 - name not found. fb:m.04b2s4m Skip\n",
            "lineid train-62107 - name not found. fb:m.0xp1ks5 Skip\n",
            "lineid train-62139 - name not found. fb:m.0fr8cn2 Skip\n",
            "lineid train-62765 - name not found. fb:m.04t05rf Skip\n",
            "lineid train-63180 - name not found. fb:m.013rpk Skip\n",
            "lineid train-63181 - name not found. fb:m.0kyq7nc Skip\n",
            "lineid train-64144 - name not found. fb:m.0xzkpwn Skip\n",
            "lineid train-64950 - name not found. fb:m.01qv8vy Skip\n",
            "lineid train-65588 - name not found. fb:m.0f7f957 Skip\n",
            "lineid train-65982 - name not found. fb:m.07_3zt Skip\n",
            "lineid train-66361 - name not found. fb:m.09rs_y9 Skip\n",
            "lineid train-67456 - name not found. fb:m.027kwms Skip\n",
            "lineid train-67866 - name not found. fb:m.0w7cbr8 Skip\n",
            "lineid train-67920 - name not found. fb:m.0g8z9vt Skip\n",
            "lineid train-67924 - name not found. fb:m.04g1nc5 Skip\n",
            "lineid train-68484 - name not found. fb:m.017tbqr Skip\n",
            "lineid train-69180 - name not found. fb:m.0shdpvm Skip\n",
            "lineid train-69855 - name not found. fb:m.0gkspc0 Skip\n",
            "lineid train-70232 - name not found. fb:m.032xhtt Skip\n",
            "lineid train-70308 - name not found. fb:m.03b_0q5 Skip\n",
            "lineid train-71995 - name not found. fb:m.0djb2pp Skip\n",
            "lineid train-72014 - name not found. fb:m.0101l0v Skip\n",
            "lineid train-72396 - name not found. fb:m.05_5d Skip\n",
            "lineid train-73433 - name not found. fb:m.023h4nv Skip\n",
            "lineid train-74632 - name not found. fb:m.0dmr3r0 Skip\n",
            "lineid train-74760 - name not found. fb:m.0ftzc Skip\n",
            "lineid train-74904 - name not found. fb:m.0nbyg9c Skip\n",
            "lineid train-75194 - name not found. fb:m.0l12d70 Skip\n",
            "lineid train-75232 - name not found. fb:m.05qd883 Skip\n",
            "lineid train-75373 - name not found. fb:m.0q57lty Skip\n",
            "wrote to data/processed_simplequestions_dataset/train.txt\n",
            "Exact Match Entity : 72558 out of 75910 : 0.9558424450006586\n",
            "reading from data/SimpleQuestions_v2/annotated_fb_data_valid.txt\n",
            "line: 0\n",
            "lineid valid-23 - name not found. fb:m.0zvwcn5 Skip\n",
            "lineid valid-114 - name not found. fb:m.03g22tr Skip\n",
            "lineid valid-475 - name not found. fb:m.0346hsv Skip\n",
            "lineid valid-702 - name not found. fb:m.02z6y3p Skip\n",
            "lineid valid-902 - name not found. fb:m.08vqg8n Skip\n",
            "lineid valid-1168 - name not found. fb:m.045p9_r Skip\n",
            "lineid valid-1169 - name not found. fb:m.03czw5g Skip\n",
            "lineid valid-1270 - name not found. fb:m.0bvrjh4 Skip\n",
            "lineid valid-1595 - name not found. fb:m.0h4867 Skip\n",
            "lineid valid-2044 - name not found. fb:m.02qplxv Skip\n",
            "lineid valid-2416 - name not found. fb:m.0_s2kgd Skip\n",
            "lineid valid-2906 - name not found. fb:m.0sn24jv Skip\n",
            "lineid valid-3958 - name not found. fb:m.0gg9r39 Skip\n",
            "lineid valid-4575 - name not found. fb:m.07gkcf Skip\n",
            "lineid valid-4850 - name not found. fb:m.0g3jrr Skip\n",
            "lineid valid-4888 - name not found. fb:m.0gjqd5 Skip\n",
            "lineid valid-4923 - name not found. fb:m.0fm7jjs Skip\n",
            "lineid valid-5239 - name not found. fb:m.04mmj61 Skip\n",
            "lineid valid-6956 - name not found. fb:m.0q8g37n Skip\n",
            "lineid valid-7154 - name not found. fb:m.01642b5 Skip\n",
            "lineid valid-7981 - name not found. fb:m.0g7tndy Skip\n",
            "lineid valid-8402 - name not found. fb:m.0dyf8sh Skip\n",
            "lineid valid-8650 - name not found. fb:m.0f_0htj Skip\n",
            "lineid valid-8676 - name not found. fb:m.0gbjh51 Skip\n",
            "lineid valid-8880 - name not found. fb:m.0crs0fz Skip\n",
            "lineid valid-8910 - name not found. fb:m.02hkxws Skip\n",
            "lineid valid-9190 - name not found. fb:m.01bz6g5 Skip\n",
            "lineid valid-9741 - name not found. fb:m.0djb2pp Skip\n",
            "lineid valid-9771 - name not found. fb:m.02h664x Skip\n",
            "lineid valid-10339 - name not found. fb:m.0cl6z16 Skip\n",
            "wrote to data/processed_simplequestions_dataset/valid.txt\n",
            "Exact Match Entity : 10396 out of 10845 : 0.9585984324573537\n",
            "reading from data/SimpleQuestions_v2/annotated_fb_data_test.txt\n",
            "line: 0\n",
            "lineid test-163 - name not found. fb:m.0qg9698\n",
            "lineid test-231 - name not found. fb:m.0y9w_wv\n",
            "lineid test-401 - name not found. fb:m.02ww_qc\n",
            "lineid test-772 - name not found. fb:m.03yvtl5\n",
            "lineid test-922 - name not found. fb:m.01k0677\n",
            "lineid test-1557 - name not found. fb:m.0gw7q_r\n",
            "lineid test-1788 - name not found. fb:m.0319xp\n",
            "lineid test-1829 - name not found. fb:m.0jw1qp1\n",
            "lineid test-2022 - name not found. fb:m.0g71sbj\n",
            "lineid test-2145 - name not found. fb:m.0z85h70\n",
            "lineid test-2233 - name not found. fb:m.0nn66b_\n",
            "lineid test-2315 - name not found. fb:m.0fr47rb\n",
            "lineid test-2408 - name not found. fb:m.0f8w6q8\n",
            "lineid test-3217 - name not found. fb:m.05ssss_\n",
            "lineid test-4510 - name not found. fb:m.05n0276\n",
            "lineid test-4607 - name not found. fb:m.02h664x\n",
            "lineid test-5024 - name not found. fb:m.0j3wpr6\n",
            "lineid test-5036 - name not found. fb:m.058mwwp\n",
            "lineid test-5166 - name not found. fb:m.0x17tvr\n",
            "lineid test-5989 - name not found. fb:m.02h7hyr\n",
            "lineid test-6340 - name not found. fb:m.0zmpz4\n",
            "lineid test-6429 - name not found. fb:m.0g1vb16\n",
            "lineid test-7059 - name not found. fb:m.033g8n3\n",
            "lineid test-7218 - name not found. fb:m.0nm3chn\n",
            "lineid test-7270 - name not found. fb:m.02qkdzb\n",
            "lineid test-7392 - name not found. fb:m.0b44bzz\n",
            "lineid test-7819 - name not found. fb:m.07kg0mk\n",
            "lineid test-8617 - name not found. fb:m.0d_bb4h\n",
            "lineid test-8690 - name not found. fb:m.013f7rh\n",
            "lineid test-9808 - name not found. fb:m.0rtydgw\n",
            "lineid test-10178 - name not found. fb:m.0jbctxx\n",
            "lineid test-10911 - name not found. fb:m.0f5n8xz\n",
            "lineid test-11027 - name not found. fb:m.02h664x\n",
            "lineid test-11793 - name not found. fb:m.0byd4y8\n",
            "lineid test-11976 - name not found. fb:m.0mkvdy4\n",
            "lineid test-13147 - name not found. fb:m.02kc1x8\n",
            "lineid test-13284 - name not found. fb:m.02h664x\n",
            "lineid test-13426 - name not found. fb:m.0zgl46r\n",
            "lineid test-13570 - name not found. fb:m.0kpck1k\n",
            "lineid test-13755 - name not found. fb:m.0_jqh5j\n",
            "lineid test-14252 - name not found. fb:m.0km51t_\n",
            "lineid test-14556 - name not found. fb:m.0v48dg8\n",
            "lineid test-16353 - name not found. fb:m.0k33swc\n",
            "lineid test-17143 - name not found. fb:m.06hsptf\n",
            "lineid test-17670 - name not found. fb:m.04w2yxm\n",
            "lineid test-17749 - name not found. fb:m.0r4l5d\n",
            "lineid test-18139 - name not found. fb:m.0fjg6cy\n",
            "lineid test-18557 - name not found. fb:m.0h81j6h\n",
            "lineid test-18577 - name not found. fb:m.02kbxdm\n",
            "lineid test-18890 - name not found. fb:m.0cz7_3h\n",
            "lineid test-19512 - name not found. fb:m.06k50f\n",
            "lineid test-19605 - name not found. fb:m.0ls67qg\n",
            "lineid test-19630 - name not found. fb:m.01npl51\n",
            "lineid test-20627 - name not found. fb:m.04634rs\n",
            "wrote to data/processed_simplequestions_dataset/test.txt\n",
            "Exact Match Entity : 20718 out of 21687 : 0.9553188546133629\n",
            "wrote to data/processed_simplequestions_dataset/all.txt\n",
            "DONE!\n",
            "Augmented dataset with line ids, shorted names, entity names.\n",
            "\n",
            "\n",
            "DONE!\n",
            "\\n\\nRunning create_indexes script...\\n\n",
            "mkdir: cannot create directory ‘indexes’: File exists\n",
            "\n",
            "\n",
            "Create the reachability index for 2M-freebase-subset...\n",
            "\n",
            "Freebase subset: data/SimpleQuestions_v2/freebase-subsets/freebase-FB2M.txt\n",
            "Pickle output: indexes/reachability_2M.pkl\n",
            "creating the index map...\n",
            "line: 0\n",
            "line: 1000000\n",
            "line: 2000000\n",
            "line: 3000000\n",
            "line: 4000000\n",
            "line: 5000000\n",
            "line: 6000000\n",
            "line: 7000000\n",
            "line: 8000000\n",
            "line: 9000000\n",
            "line: 10000000\n",
            "num keys: 1959805\n",
            "total key-value pairs: 10843106\n",
            "DONE\n",
            "Created the reachability index.\n",
            "\n",
            "\n",
            "Create the inverted index for entity names for 2M-freebase-subset...\n",
            "\n",
            "Names: data/freebase_names/names.trimmed.2M.txt\n",
            "Pickle output: indexes/entity_2M.pkl\n",
            "creating the index map...\n",
            "line: 0\n",
            "line: 1000000\n",
            "line: 2000000\n",
            "num keys: 4798616\n",
            "total key-value pairs: 17560776\n",
            "dumping to pickle...\n",
            "tcmalloc: large alloc 1073741824 bytes == 0x5602bc134000 @  0x7fb3697681e7 0x56021c1f38d8 0x56021c27538f 0x56021c27219e 0x56021c2739eb 0x56021c2735aa 0x56021c272ebe 0x56021c27170c 0x56021c163492 0x56021c1c0c7c 0x56021c1c0a50 0x56021c234be0 0x56021c1c230a 0x56021c2303b5 0x56021c22f4ae 0x56021c22f1b3 0x56021c2f9182 0x56021c2f94fd 0x56021c2f93a6 0x56021c2d0723 0x56021c2d03cc 0x7fb368552bf7 0x56021c2d02aa\n",
            "tcmalloc: large alloc 2147483648 bytes == 0x5602fc134000 @  0x7fb3697681e7 0x56021c1f38d8 0x56021c27538f 0x56021c2723a4 0x56021c272078 0x56021c2739eb 0x56021c2735aa 0x56021c272e71 0x56021c27170c 0x56021c163492 0x56021c1c0c7c 0x56021c1c0a50 0x56021c234be0 0x56021c1c230a 0x56021c2303b5 0x56021c22f4ae 0x56021c22f1b3 0x56021c2f9182 0x56021c2f94fd 0x56021c2f93a6 0x56021c2d0723 0x56021c2d03cc 0x7fb368552bf7 0x56021c2d02aa\n",
            "DONE\n",
            "Created the entity index.\n",
            "\n",
            "\n",
            "Create the index for degree counts for 2M-freebase-subset...\n",
            "\n",
            "Freebase subset: data/SimpleQuestions_v2/freebase-subsets/freebase-FB2M.txt\n",
            "Pickle output: indexes/degrees_2M.pkl\n",
            "creating the index map...\n",
            "line: 0\n",
            "line: 1000000\n",
            "line: 2000000\n",
            "line: 3000000\n",
            "line: 4000000\n",
            "line: 5000000\n",
            "line: 6000000\n",
            "line: 7000000\n",
            "line: 8000000\n",
            "line: 9000000\n",
            "line: 10000000\n",
            "num keys: 1968568\n",
            "total key-value pairs: 10843106\n",
            "DONE\n",
            "Created the reachability index.\n",
            "\n",
            "\n",
            "DONE!\n",
            "\\n\\nDONE!\n"
          ],
          "name": "stdout"
        }
      ]
    },
    {
      "cell_type": "code",
      "metadata": {
        "id": "u1FODKh38oiT"
      },
      "source": [
        "import pickle\n",
        "with open('/content/drive/MyDrive/qa/names_2M.pkl', 'rb') as fin:\n",
        "    mid2name = pickle.load(fin)\n",
        "with open('/content/drive/MyDrive/qa/entity_2M.pkl', 'rb') as fin:\n",
        "    ent2mid = pickle.load(fin)\n",
        "with open('/content/drive/MyDrive/qa/reachability_2M.pkl', 'rb') as fin:\n",
        "    reachability = pickle.load(fin)\n",
        "with open('/content/drive/MyDrive/qa/degrees_2M.pkl', 'rb') as fin:\n",
        "    degrees = pickle.load(fin)\n",
        "    \n"
      ],
      "execution_count": 6,
      "outputs": []
    },
    {
      "cell_type": "code",
      "metadata": {
        "id": "M37Wc6y6a_5E",
        "outputId": "e6875224-8b33-4001-a781-1e4751415243",
        "colab": {
          "base_uri": "https://localhost:8080/"
        }
      },
      "source": [
        "!pip install fuzzywuzzy"
      ],
      "execution_count": 7,
      "outputs": [
        {
          "output_type": "stream",
          "text": [
            "Requirement already satisfied: fuzzywuzzy in /usr/local/lib/python3.7/dist-packages (0.18.0)\n"
          ],
          "name": "stdout"
        }
      ]
    },
    {
      "cell_type": "code",
      "metadata": {
        "id": "2gGE2olrbISj"
      },
      "source": [
        ""
      ],
      "execution_count": 7,
      "outputs": []
    },
    {
      "cell_type": "code",
      "metadata": {
        "id": "3jkIc-i9Szkc",
        "outputId": "fae29f78-23eb-4cd0-bc24-93f63025499d",
        "colab": {
          "base_uri": "https://localhost:8080/"
        }
      },
      "source": [
        "from fuzzywuzzy import fuzz\n",
        "import pandas as pd \n",
        "test_set = pd.read_excel('/content/drive/MyDrive/qa/test.xlsx').fillna(' ')\n",
        "precision = []\n",
        "for index, row in test_set.iterrows():\n",
        "  try:\n",
        "    actual = mid2name[row['subject1_mid']]\n",
        "    # print(actual)\n",
        "    predicted = row['Subject']\n",
        "    # print(predicted, actual)\n",
        "    temp = max([fuzz.ratio(item, predicted) for item in actual])\n",
        "    precision.append(temp)  \n",
        "  except Exception as e:\n",
        "    # raise e\n",
        "    pass\n",
        "  # break \n",
        "print(sum(precision)/len(precision))"
      ],
      "execution_count": 11,
      "outputs": [
        {
          "output_type": "stream",
          "text": [
            "82.05750739644971\n"
          ],
          "name": "stdout"
        }
      ]
    },
    {
      "cell_type": "code",
      "metadata": {
        "id": "DmmtqqxTBuRV"
      },
      "source": [
        "!cp /content/BuboQA/indexes/names_2M.pkl /content/drive/MyDrive/qa/\n",
        "!cp /content/BuboQA/indexes/entity_2M.pkl /content/drive/MyDrive/qa/\n",
        "!cp /content/BuboQA/indexes/reachability_2M.pkl /content/drive/MyDrive/qa/\n",
        "!cp /content/BuboQA/indexes/degrees_2M.pkl /content/drive/MyDrive/qa/"
      ],
      "execution_count": null,
      "outputs": []
    },
    {
      "cell_type": "code",
      "metadata": {
        "colab": {
          "base_uri": "https://localhost:8080/"
        },
        "id": "_gFRvdaJByrC",
        "outputId": "ecff87f9-0852-43e9-8b39-5003a7c9a52d"
      },
      "source": [
        "from google.colab import drive\n",
        "drive.mount('/content/drive')"
      ],
      "execution_count": 1,
      "outputs": [
        {
          "output_type": "stream",
          "text": [
            "Mounted at /content/drive\n"
          ],
          "name": "stdout"
        }
      ]
    },
    {
      "cell_type": "code",
      "metadata": {
        "id": "MhREpyJauKeA",
        "colab": {
          "base_uri": "https://localhost:8080/"
        },
        "outputId": "82032b4e-5162-4d38-a208-f10cc2700a0c"
      },
      "source": [
        "print(mid2name['fb:m.0np6z99'], mid2name['fb:m.05zppz'], mid2name['fb:m.0mvgp5s'])"
      ],
      "execution_count": 8,
      "outputs": [
        {
          "output_type": "stream",
          "text": [
            "['fearless'] ['dude', 'guy', 'male', 'man', 'men', 'boy'] ['fearless']\n"
          ],
          "name": "stdout"
        }
      ]
    },
    {
      "cell_type": "code",
      "metadata": {
        "id": "yzzzYFPGuKeB",
        "outputId": "f115f03f-ca3b-472d-9431-df4dc2b58181"
      },
      "source": [
        "print(len(degrees), list(degrees.keys())[:24], degrees['fb:m.0n1vy1h'], degrees['fb:soccer.football_player.position_s'])"
      ],
      "execution_count": null,
      "outputs": [
        {
          "output_type": "stream",
          "text": [
            "1968568 ['fb:m.0n1vy1h', 'fb:people.person.gender', 'fb:m.05zppz', 'fb:m.038b5bg', 'fb:music.release.track', 'fb:m.010btzs', 'fb:m.0cz9079', 'fb:soccer.football_player.position_s', 'fb:m.02nzb8', 'fb:m.03d1n81', 'fb:organization.organization_founder.organizations_founded', 'fb:m.04hk45', 'fb:m.03byqr1', 'fb:cvg.computer_videogame.cvg_genre', 'fb:m.0_678', 'fb:m.0n5xzdf', 'fb:people.person.place_of_birth', 'fb:m.0c_m3', 'fb:m.02vwbkk', 'fb:people.person.nationality', 'fb:m.01mk6', 'fb:m.02hl5l7', 'fb:cvg.game_version.platform', 'fb:m.050xd'] [0, 5] [54191, 0]\n"
          ],
          "name": "stdout"
        }
      ]
    },
    {
      "cell_type": "code",
      "metadata": {
        "id": "imRu8j8iuKeC",
        "outputId": "7d557a97-ba28-42ec-c830-81623e830862"
      },
      "source": [
        "print(len(mid2name), list(mid2name.keys())[:20], mid2name['fb:m.01jp8ww'], mid2name['fb:m.01qzt1'])"
      ],
      "execution_count": null,
      "outputs": [
        {
          "output_type": "stream",
          "text": [
            "1951909 ['fb:m.0f8vjgd', 'fb:m.0f8vp8r', 'fb:m.0f8vt9', 'fb:m.0f8w8td', 'fb:m.0f8xqp', 'fb:m.0f966w9', 'fb:m.0f97_j', 'fb:m.0f98_c1', 'fb:m.0f9k3d7', 'fb:m.0f9mxbc', 'fb:m.0f9q09k', 'fb:m.0f9qpn9', 'fb:m.0f9rv4n', 'fb:m.0f9x06p', 'fb:m.0f_3k2', 'fb:m.0f_44r3', 'fb:m.0f_61lf', 'fb:m.0f_6gvn', 'fb:m.0f__g6', 'fb:m.0f_dj4_'] ['harder ... ..faster', 'harder ... faster'] ['classic rock']\n"
          ],
          "name": "stdout"
        }
      ]
    },
    {
      "cell_type": "code",
      "metadata": {
        "id": "X0-jWW4_uKeE",
        "outputId": "3aeb3a68-e953-4c89-ba87-6c34c8bfa444"
      },
      "source": [
        "print(len(reachability), list(reachability.keys())[:10], reachability['fb:m.01jp8ww'])"
      ],
      "execution_count": null,
      "outputs": [
        {
          "output_type": "stream",
          "text": [
            "1959805 ['fb:m.0n1vy1h', 'fb:m.038b5bg', 'fb:m.0cz9079', 'fb:m.03d1n81', 'fb:m.03byqr1', 'fb:m.0n5xzdf', 'fb:m.02vwbkk', 'fb:m.02hl5l7', 'fb:m.0b70yxd', 'fb:m.0nd_0ll'] {'fb:music.album.genre', 'fb:music.album.artist', 'fb:music.album.release_type'}\n"
          ],
          "name": "stdout"
        }
      ]
    },
    {
      "cell_type": "code",
      "metadata": {
        "id": "uRqoBA9muKeF",
        "outputId": "15c967ce-23ae-4634-eb3d-ab0f7ee78826"
      },
      "source": [
        "print(len(ent2mid), list(ent2mid.keys())[:10])"
      ],
      "execution_count": null,
      "outputs": [
        {
          "output_type": "stream",
          "text": [
            "4798616 ['skyshaper', 'collection', 'gypsy 83', 'gypsy', '83', 'cast )', 'london', '1971 london', 'show boat (', '(']\n"
          ],
          "name": "stdout"
        }
      ]
    },
    {
      "cell_type": "code",
      "metadata": {
        "id": "0Vl8p9PcuKeI"
      },
      "source": [
        "from sklearn.feature_extraction.text import TfidfVectorizer\n",
        "\n",
        "subject_vectorizer = TfidfVectorizer()\n",
        "all_entities = [' '.join(item) for item in mid2name.values()]\n",
        "all_entity_vectors = subject_vectorizer.fit_transform(all_entities)\n",
        "# mid2vector = {i:j for i,j in zip(mid2name.keys(), all_entity_vectors)}\n",
        "\n",
        "predicate_vectorizer = TfidfVectorizer()\n",
        "all_predicates = [item for item in list(reachability.values())]\n",
        "all_predicates = [item for subdict in all_predicates for item in list(subdict)]\n",
        "all_predicates = list(set(all_predicates))\n",
        "all_predicates_mid = all_predicates\n",
        "all_predicates = [item.split('.')[-1].replace('_', ' ') for item in all_predicates]\n",
        "all_predicate_vectors = predicate_vectorizer.fit_transform(all_predicates)\n",
        "mid2pred = {i:j for i,j in zip(all_predicates_mid, all_predicates)}"
      ],
      "execution_count": null,
      "outputs": []
    },
    {
      "cell_type": "code",
      "metadata": {
        "id": "HRlu-D-avwrF",
        "colab": {
          "base_uri": "https://localhost:8080/"
        },
        "outputId": "cc57f7e4-9b73-47c1-d5b8-0b0767bcf141"
      },
      "source": [
        "print(list(mid2pred.keys())[:10])"
      ],
      "execution_count": null,
      "outputs": [
        {
          "output_type": "stream",
          "text": [
            "['fb:people.cause_of_death.people', 'fb:base.landcover.classification_code.geographical_code_category', 'fb:base.svocab.music_artist.album', 'fb:royalty.chivalric_rank.gender', 'fb:government.government_position_held.district_represented', 'fb:user.arielb.stalag.stalag.liberated_by', 'fb:user.robert.x2008_presidential_election.candidate.presidential_campaigns', 'fb:user.dylanrocks.national_football_league.nfl_draft_diamond_in_the_rough.position_players_selected_previously', 'fb:base.ballet.ballet_school.notable_teachers', 'fb:architecture.structure.architecture_firm']\n"
          ],
          "name": "stdout"
        }
      ]
    },
    {
      "cell_type": "code",
      "metadata": {
        "id": "I_21D1NauKeK"
      },
      "source": [
        "from sklearn.metrics.pairwise import cosine_similarity\n",
        "def subject_query(subject_vectors, subject_vectorizer, subject, count=250):\n",
        "  subject_similarities = cosine_similarity(subject_vectors, subject_vectorizer.transform([subject]))\n",
        "  mid2similarity = {i:j for i,j in zip(mid2name.keys(), subject_similarities)}\n",
        "  sorted_mid2similarity = [(k, v[0]) for k, v in sorted(mid2similarity.items(), key=lambda item: item[1], reverse=True)[:count]]\n",
        "  return sorted_mid2similarity\n"
      ],
      "execution_count": null,
      "outputs": []
    },
    {
      "cell_type": "code",
      "metadata": {
        "id": "2_3FwujwtpNL",
        "colab": {
          "base_uri": "https://localhost:8080/"
        },
        "outputId": "ec87eafa-3879-49a4-ea85-208cb1173242"
      },
      "source": [
        "subject_query(all_entity_vectors, subject_vectorizer, 'fearless')[:10]"
      ],
      "execution_count": null,
      "outputs": [
        {
          "output_type": "execute_result",
          "data": {
            "text/plain": [
              "[('fb:m.0sg_f6h', 1.0),\n",
              " ('fb:m.011bcdn', 1.0),\n",
              " ('fb:m.0fz2sz2', 1.0),\n",
              " ('fb:m.0wk69w', 1.0),\n",
              " ('fb:m.0l3hhvh', 1.0),\n",
              " ('fb:m.0m5w473', 1.0),\n",
              " ('fb:m.0nn5g8_', 1.0),\n",
              " ('fb:m.0x3w760', 1.0),\n",
              " ('fb:m.04jkg4d', 1.0),\n",
              " ('fb:m.0wsy4jj', 1.0)]"
            ]
          },
          "metadata": {
            "tags": []
          },
          "execution_count": 34
        }
      ]
    },
    {
      "cell_type": "code",
      "metadata": {
        "id": "DmYqhvfAu5de"
      },
      "source": [
        "def predicate_query(predicate_vectors, predicate_vectorizer, predicate, count=250):\n",
        "  predicate_similarities = cosine_similarity(predicate_vectors, predicate_vectorizer.transform([predicate]))\n",
        "  predicate_id_2similarity = {i:j for i,j in zip(mid2pred.keys(), predicate_similarities)}\n",
        "  sorted_predicate_id_2similarity = [(k, v[0]) for k, v in sorted(predicate_id_2similarity.items(), key=lambda item: item[1], reverse=True)[:count]]\n",
        "  return sorted_predicate_id_2similarity"
      ],
      "execution_count": null,
      "outputs": []
    },
    {
      "cell_type": "code",
      "metadata": {
        "id": "eXuARtUJz3Ju",
        "colab": {
          "base_uri": "https://localhost:8080/"
        },
        "outputId": "9626cb64-5913-4c6d-d80f-80b230e0543c"
      },
      "source": [
        "predicate_query(all_predicate_vectors, predicate_vectorizer, 'format is')[:10]"
      ],
      "execution_count": null,
      "outputs": [
        {
          "output_type": "execute_result",
          "data": {
            "text/plain": [
              "[('fb:base.radiostations.radio_station.format', 0.724791547647267),\n",
              " ('fb:user.joehughes.default_domain.data_feed.format', 0.724791547647267),\n",
              " ('fb:broadcast.radio_station.format', 0.724791547647267),\n",
              " ('fb:digicams.digital_camera.format', 0.724791547647267),\n",
              " ('fb:music.release.format', 0.724791547647267),\n",
              " ('fb:base.filmcameras.camera.film_format', 0.5502529305831048),\n",
              " ('fb:film.film.film_format', 0.5502529305831048),\n",
              " ('fb:film.film_format.film_format', 0.5502529305831048),\n",
              " ('fb:computer.file_format.format_creator', 0.49677287840860557),\n",
              " ('fb:engineering.battery_size.shape_format', 0.4933988570887214)]"
            ]
          },
          "metadata": {
            "tags": []
          },
          "execution_count": 36
        }
      ]
    },
    {
      "cell_type": "code",
      "metadata": {
        "id": "1qosooPg0OWG"
      },
      "source": [
        "def query(subject, predicate, count=250):\n",
        "  subjects = subject_query(all_entity_vectors, subject_vectorizer, subject, count)\n",
        "  predicates = predicate_query(all_predicate_vectors, predicate_vectorizer, predicate, count)\n",
        "  candidates = []\n",
        "  for sub_mid, sub_score in subjects:\n",
        "    for pred_mid, pred_score in predicates:\n",
        "      candidates.append((sub_mid, sub_score, pred_mid, pred_score))\n",
        "  pruned_candidates = [item for item in candidates if item[2] in reachability[item[0]]]\n",
        "  # print(len(candidates), len(pruned_candidates))\n",
        "  return [item for item in sorted(pruned_candidates, key=lambda item: item[1]+item[3], reverse=True)]\n"
      ],
      "execution_count": null,
      "outputs": []
    },
    {
      "cell_type": "code",
      "metadata": {
        "id": "8sc3Imke4HcW",
        "colab": {
          "base_uri": "https://localhost:8080/"
        },
        "outputId": "1b5030d2-32fd-420f-8df6-123f2e7f6fa6"
      },
      "source": [
        "query('fearless', 'format is')"
      ],
      "execution_count": null,
      "outputs": [
        {
          "output_type": "execute_result",
          "data": {
            "text/plain": [
              "[('fb:m.0sg_f6h', 1.0, 'fb:music.release.format', 0.724791547647267),\n",
              " ('fb:m.0y8sr1j', 1.0, 'fb:music.release.format', 0.724791547647267),\n",
              " ('fb:m.0wt1ljz', 1.0, 'fb:music.release.format', 0.724791547647267),\n",
              " ('fb:m.0fng70q', 1.0, 'fb:music.release.format', 0.724791547647267),\n",
              " ('fb:m.035hpm0', 1.0, 'fb:music.release.format', 0.724791547647267),\n",
              " ('fb:m.03xqt3s', 1.0, 'fb:music.release.format', 0.724791547647267),\n",
              " ('fb:m.0dz5cr9', 1.0, 'fb:music.release.format', 0.724791547647267),\n",
              " ('fb:m.0ybbkg1', 1.0, 'fb:music.release.format', 0.724791547647267),\n",
              " ('fb:m.049lm5p', 1.0, 'fb:music.release.format', 0.724791547647267),\n",
              " ('fb:m.0qblwx4', 1.0, 'fb:music.release.format', 0.724791547647267),\n",
              " ('fb:m.0wsx02c', 1.0, 'fb:music.release.format', 0.724791547647267),\n",
              " ('fb:m.0dvyv6d', 1.0, 'fb:music.release.format', 0.724791547647267),\n",
              " ('fb:m.0fbkjb1', 1.0, 'fb:music.release.format', 0.724791547647267),\n",
              " ('fb:m.03jcb9h', 1.0, 'fb:music.release.format', 0.724791547647267),\n",
              " ('fb:m.0xlx9kr', 1.0, 'fb:music.release.format', 0.724791547647267),\n",
              " ('fb:m.0sm63fz', 1.0, 'fb:music.release.format', 0.724791547647267),\n",
              " ('fb:m.0yb_5pr', 1.0, 'fb:music.release.format', 0.724791547647267),\n",
              " ('fb:m.0f_lfc7', 1.0, 'fb:music.release.format', 0.724791547647267),\n",
              " ('fb:m.031p4kn', 1.0, 'fb:music.release.format', 0.724791547647267)]"
            ]
          },
          "metadata": {
            "tags": []
          },
          "execution_count": 42
        }
      ]
    },
    {
      "cell_type": "code",
      "metadata": {
        "id": "3VeRwh1-44-N",
        "colab": {
          "base_uri": "https://localhost:8080/"
        },
        "outputId": "f13adf2b-fd78-444c-d391-a42189ffb7f6"
      },
      "source": [
        "import pandas as pd \n",
        "test_set = pd.read_excel('/content/drive/MyDrive/qa/test.xlsx').fillna(' ')\n",
        "subset = test_set.sample(n=100, random_state=42)\n",
        "indecis = []\n",
        "results = []\n",
        "hit_1 = 0\n",
        "hit_3 = 0\n",
        "hit_5 = 0\n",
        "hit_10 = 0\n",
        "hit_100 = 0\n",
        "hit_200 = 0\n",
        "for index, row in subset.iterrows():\n",
        "  print(row['Subject'], '||', row['Predicate'])\n",
        "  # print(\"=\"*100)\n",
        "  temp = query(row['Subject'], row['Predicate'], 1000)\n",
        "  # print(\"=\"*100)\n",
        "  # print(len(temp), row['subject1_mid'], row['predicate_class'])\n",
        "  # print(\"=\"*100)\n",
        "  for item in temp:\n",
        "    # print(item[0], item[2])\n",
        "    if (item[0]==row['subject1_mid'] and item[2]==row['predicate_class']):\n",
        "        if index<=1:\n",
        "          hit_1+=1\n",
        "        if index<=3:\n",
        "          hit_3+=1\n",
        "        if index<=5:\n",
        "          hit_5+=1\n",
        "        if index<=10:\n",
        "          hit_10+=1\n",
        "        if index<=100:\n",
        "          hit_100+=1\n",
        "        indecis.append(index)\n",
        "print(hit_1, hit_3, hit_5, hit_10, hit_100)\n",
        "print(indecis)"
      ],
      "execution_count": null,
      "outputs": [
        {
          "output_type": "stream",
          "text": [
            "movie || kind of is vulgar\n",
            "the form of the composition || is wake up ?\n",
            "brunello ( va ) || province is located in\n",
            "santa fe county ? || is a place located within\n",
            "believe || is the performer of\n",
            "su tong || is female or male ?\n",
            "jeena sirf merre liye || netflix genre does belong to\n",
            "the san francisco ballet || is known for ?\n",
            "garrick ollivander || created\n",
            "richmond ? || are tourist attraction in\n",
            "famas dsc06877 || was in\n",
            "the tv show national geographic explorer ? || an episode of\n",
            "the champ clark bridge || body of water does span\n",
            "the album 1916 || ##s the release type of the\n",
            "carnton || is located\n",
            "vojtech schulmeister || was born ?\n",
            "the aritst ilia || is the genre of the\n",
            "dog breeds || have a hardy temperament\n",
            "royal institution || language is christmas lectures in\n",
            "science is the american sociological review || field is is written about\n",
            "arizona || is a census designated place in\n",
            "zou yan || religion does have\n",
            "the united states is highwood || in is\n",
            "latonia lakes || county is within\n",
            "dave alvin || type of music does play\n",
            "a thrash metal artist ||  \n",
            "the town stateline || is\n",
            "das bootleg : live in mannheim , part 1 || kind of album is : live in\n",
            "john brewster , jr . || is the name of the was born\n",
            "az ( rapper ) || is an album by\n",
            "hansel and gretel || kind of book is\n",
            "aereogramme || is from\n",
            "the movie the master || ##s a location shown in\n",
            "rebecca root || is ' s birthplace ?\n",
            "apollo 13 || is a song from\n",
            "the opera 1984 || best describes\n",
            "dos || is a game that can be played on\n",
            "egia ilia khachaturian ? || gender is\n",
            "dry lightning || record\n",
            "russia ? || books have been written about\n",
            "leonardo da vinci || is the subject matter of\n",
            "bang ! || in format was released ?\n",
            "potter || country is place in\n",
            "guerilla wrench || ' s a song written by\n",
            "morgan taylor reid || was birthed\n",
            "trondheim airport , værnes ? || is ?\n",
            "darling , how could you ! || directed , could !\n",
            "paul a . felix ' s profession || is ?\n",
            "thin air || netflix genre does into affiliate with\n",
            "black pepper || category of does fall within\n",
            "the super bowl xlv || were the runners up in\n",
            "knock on wood || is the release track on\n",
            "ayako shirasaki || city was born\n",
            "an lgbt movie ? || is ?\n",
            "anne andreu || is known for\n",
            "racine || time is in ?\n",
            "haruichi shindo ? || song is by\n",
            "nils lofgren || is the compilation album by called\n",
            "the battle of teba ? || entity was involved in\n",
            "the recording winter wonderland || song is in\n",
            "strange triangle || was the executive producer of\n",
            "the warner bros . ? || film is by\n",
            "literature or science || or covered in a of\n",
            "mark ritchie || is male or female\n",
            "steeleye span : classic rock legends || is the netflix genre of\n",
            "set alight || ' s a song written by\n",
            "alexander gaden || was the birthplace of\n",
            "ken barrington || location is where died\n",
            "konstantin dzutsev ' s nationality ? || is nationality ?\n",
            "condemned 2 : bloodshot ? || is the prequel to\n",
            "hours || artist recorded after ?\n",
            "cassie taylor || ' s a track written by\n",
            "emil jensen || is known for\n",
            "admir smajic || position did play\n",
            "the franchise || wrote the book\n",
            "leonard blavatnik || organization did found ?\n",
            "the amalgamut ? || band wrote the album\n",
            "mike mcqueen || is notable for ?\n",
            "the song federation || artist sang\n",
            "a dance - pop album ? || is the name of\n",
            "harry belafonte ? || kind of release is the very best of\n",
            "tyrice thompson || did die ?\n",
            "vivaldi || artist composed the , volume :\n",
            "masters collection || is an album or a dvd\n",
            "north triangle pond || in country is located\n",
            "bad channels || type of is\n",
            "the new wild west : documentary collection || kind of genre is\n",
            "k . pappu || did pass away ?\n",
            "the border || type of is\n",
            "dopamine || ' s a medicinal spray that uses\n",
            "a professional relief pitcher ? || is\n",
            "river lea || is the name of the of\n",
            "nik abdul aziz nik mat || was the birthplace of\n",
            "kauai county , hawaii || ' s a notable town in\n",
            "kodak easyshare c713 || manufactured\n",
            "beck – skarpt lage || language is spoken in\n",
            "brady romberg ? || is the occupation of\n",
            "ginger ale is an ingredient in what dish ? || is an ingredient in\n",
            "weston || is a person that was born in\n",
            "green dragon || type of object is\n",
            "0 0 0 0 0\n",
            "[4024, 5304, 13270, 6399, 11626, 16401, 9584, 19716, 18526, 21294, 12376, 1290, 17990, 12068, 21377, 20215, 11114, 2698, 6926, 4401, 14815, 10903, 8882, 1443, 13427, 14426, 1261, 10649, 6628, 12378, 9132, 19974, 17181, 17237, 20831, 134, 21648, 4159, 16342, 2946, 10371, 15659, 1710, 11607]\n"
          ],
          "name": "stdout"
        }
      ]
    },
    {
      "cell_type": "code",
      "metadata": {
        "id": "ZfmA7kxKAHBC",
        "colab": {
          "base_uri": "https://localhost:8080/"
        },
        "outputId": "59274a8e-faf8-4782-e74f-d6d26f25b59b"
      },
      "source": [
        "print(len(indecis))"
      ],
      "execution_count": null,
      "outputs": [
        {
          "output_type": "stream",
          "text": [
            "44\n"
          ],
          "name": "stdout"
        }
      ]
    },
    {
      "cell_type": "code",
      "metadata": {
        "id": "LmjQ2ZYI7bAo"
      },
      "source": [
        "hit_1 = 0\n",
        "hit_3 = 3\n",
        "hit_5 = 5\n",
        "hit_10 = 10\n",
        "hit_100 = 100\n",
        "\n",
        "def get_hit(candidates, subject_mid, predicate_mid):\n",
        "  for index, item in enumerate(candidates):\n",
        "    if (item[0]==subject_mid and item[2]==predicate_mid):\n",
        "      if index>=1:\n",
        "        hit_1+=1\n",
        "      if index>=3:\n",
        "        hit_3+=1\n",
        "      if index>=5:\n",
        "        hit_5+=1\n",
        "      if index>=10:\n",
        "        hit_10+=1\n",
        "      if index>=100:\n",
        "        hit_100+=1\n",
        "  print(hit_1, hit_3, hit_5, hit_10, hit_100)\n",
        "        "
      ],
      "execution_count": null,
      "outputs": []
    },
    {
      "cell_type": "code",
      "metadata": {
        "id": "GqJ8gMDy448U"
      },
      "source": [
        "for index, row in subset.iterrows():\n",
        "  "
      ],
      "execution_count": null,
      "outputs": []
    },
    {
      "cell_type": "code",
      "metadata": {
        "id": "BgaOjynF446O"
      },
      "source": [
        ""
      ],
      "execution_count": null,
      "outputs": []
    },
    {
      "cell_type": "code",
      "metadata": {
        "id": "DdvjXRrX4439"
      },
      "source": [
        ""
      ],
      "execution_count": null,
      "outputs": []
    },
    {
      "cell_type": "code",
      "metadata": {
        "id": "Okc1hiDM442G"
      },
      "source": [
        ""
      ],
      "execution_count": null,
      "outputs": []
    },
    {
      "cell_type": "code",
      "metadata": {
        "id": "NhDk5_pm44zs"
      },
      "source": [
        ""
      ],
      "execution_count": null,
      "outputs": []
    },
    {
      "cell_type": "code",
      "metadata": {
        "id": "iv62p3Tf44xV"
      },
      "source": [
        ""
      ],
      "execution_count": null,
      "outputs": []
    },
    {
      "cell_type": "code",
      "metadata": {
        "id": "UWAcxKTf44u4"
      },
      "source": [
        ""
      ],
      "execution_count": null,
      "outputs": []
    },
    {
      "cell_type": "code",
      "metadata": {
        "id": "wwGk8ijd44sE"
      },
      "source": [
        ""
      ],
      "execution_count": null,
      "outputs": []
    },
    {
      "cell_type": "code",
      "metadata": {
        "id": "gOhnx62lEOcq"
      },
      "source": [
        "from sklearn.metrics.pairwise import cosine_similarity\n",
        "def query(subject_list, predicate_list, \n",
        "          subject_vectorizer, subject_vectors, \n",
        "          predicate_vectorizer, ent_cand_number):\n",
        "  subject_similarities = cosine_similarity(subject_vectors, subject_vectorizer.transform(subject_list))\n",
        "  results = []\n",
        "  for index in range(subject_similarities.shape[-1]):\n",
        "    cands = []\n",
        "    mid2similarity = {i:j for i,j in zip(mid2name.keys(), subject_similarities[:, index])}\n",
        "    \n",
        "    sorted_mid2similarity = {k: [v, reachability[k]] for k, v in sorted(mid2similarity.items(), key=lambda item: item[1], reverse=True)[:ent_cand_number]}\n",
        "    print(sorted_mid2similarity)\n",
        "    print('='*100)\n",
        "    candidates = []\n",
        "    for mid, value in sorted_mid2similarity.items():\n",
        "      for prd in value[1]:\n",
        "        temp = cosine_similarity(predicate_vectorizer.transform([prd.split('.')[-1].replace('_', ' ')]),\n",
        "                                      predicate_vectorizer.transform(predicate_list[index:index+1])).flatten()[0]\n",
        "        candidates.append([mid, value[0], prd, temp])     \n",
        "    sorted_candidates = sorted(candidates, key=lambda item:item[1]+item[3], reverse=True)\n",
        "    graph = list(degrees.keys())\n",
        "    for item in sorted_candidates:\n",
        "      indices = [i for i, x in enumerate(graph) if x == item[0]]\n",
        "      for index in indices:\n",
        "        if graph[index+1]==item[2]:\n",
        "          # item.append(graph[index+2])\n",
        "          cands.append(item+[graph[index+2]])\n",
        "    results.append(cands)\n",
        "  return results\n",
        "\n",
        "    \n",
        "\n"
      ],
      "execution_count": null,
      "outputs": []
    },
    {
      "cell_type": "code",
      "metadata": {
        "id": "bnv15bbA2tty",
        "colab": {
          "base_uri": "https://localhost:8080/"
        },
        "outputId": "5e5929ce-1f4b-4d3f-b07a-98ad63ff5b6a"
      },
      "source": [
        "\n",
        "sss = query(['brandon kramer', 'praying for time'], ['gender', 'composer'], subject_vectorizer, all_entity_vectors, predicate_vectorizer, 10)"
      ],
      "execution_count": null,
      "outputs": [
        {
          "output_type": "stream",
          "text": [
            "{'fb:m.0n1vy1h': [1.0, {'fb:people.person.profession', 'fb:people.person.gender', 'fb:common.topic.notable_types'}], 'fb:m.0873tb': [0.7108760682150832, {'fb:people.person.gender', 'fb:common.topic.notable_types', 'fb:people.person.nationality', 'fb:music.producer.releases_produced', 'fb:music.artist.album', 'fb:people.person.profession', 'fb:music.musical_group.member', 'fb:music.performance_role.regular_performances', 'fb:music.artist.track', 'fb:people.person.place_of_birth', 'fb:music.artist.label', 'fb:organization.organization_founder.organizations_founded'}], 'fb:m.0p_th': [0.7081996632348486, {'fb:film.film.music', 'fb:film.film.country', 'fb:common.topic.notable_types', 'fb:film.film.film_set_decoration_by', 'fb:film.film.story_by', 'fb:film.film.language', 'fb:award.award_nominee.award_nominations', 'fb:film.film.genre', 'fb:award.award_nominated_work.award_nominations', 'fb:film.film.soundtrack', 'fb:film.film.rating', 'fb:film.film.directed_by', 'fb:film.film.written_by', 'fb:media_common.adapted_work.adaptations', 'fb:award.award_winning_work.awards_won', 'fb:film.film.film_festivals', 'fb:film.film.produced_by', 'fb:film.film.costume_design_by', 'fb:film.film.cinematography', 'fb:award.award_winner.awards_won', 'fb:film.film.featured_film_locations', 'fb:film.film.production_companies', 'fb:film.film.film_production_design_by', 'fb:media_common.netflix_title.netflix_genres', 'fb:film.film.edited_by'}], 'fb:m.0b0gd4': [0.7076988339792939, {'fb:location.location.containedby'}], 'fb:m.0pd2vh2': [0.6814062011569629, {'fb:people.person.profession', 'fb:people.person.gender'}], 'fb:m.0whqxpc': [0.6794333928069775, {'fb:people.person.profession', 'fb:people.person.gender'}], 'fb:m.0b_h4zh': [0.6625284879551228, {'fb:people.person.profession', 'fb:people.person.gender'}], 'fb:m.0kzsg0c': [0.6625284879551228, {'fb:people.person.nationality', 'fb:people.person.gender', 'fb:people.person.profession', 'fb:people.person.place_of_birth'}], 'fb:m.0k3q0s': [0.661320200126928, {'fb:people.person.gender', 'fb:people.person.nationality', 'fb:people.deceased_person.place_of_death', 'fb:people.person.place_of_birth', 'fb:people.person.profession'}], 'fb:m.0v9g_x1': [0.6546071534351274, {'fb:people.person.profession', 'fb:people.person.gender', 'fb:common.topic.notable_types'}]}\n",
            "====================================================================================================\n",
            "{'fb:m.08zwyb': [1.0000000000000002, {'fb:music.composition.language', 'fb:music.composition.lyricist', 'fb:music.composition.form', 'fb:music.composition.composer'}], 'fb:m.0zklwgg': [0.7163319100583146, {'fb:music.composition.language', 'fb:music.composition.lyricist', 'fb:music.composition.form', 'fb:music.composition.composer'}], 'fb:m.04w8758': [0.6089738244829629, {'fb:book.written_work.original_language', 'fb:freebase.valuenotation.is_reviewed', 'fb:book.written_work.subjects', 'fb:book.book.genre'}], 'fb:m.01m149b': [0.5966361599909086, {'fb:music.album.genre', 'fb:music.album.artist', 'fb:music.album.release_type'}], 'fb:m.04w3s_l': [0.5964442578819832, {'fb:book.written_work.author', 'fb:book.written_work.subjects'}], 'fb:m.0zhqr0v': [0.584426643766715, {'fb:music.composition.language', 'fb:music.composition.form', 'fb:music.composition.composer'}], 'fb:m.03kfm0': [0.5777345183204327, {'fb:film.film.written_by', 'fb:film.film.country', 'fb:film.film.directed_by', 'fb:film.film.language', 'fb:film.film.produced_by', 'fb:film.film.genre'}], 'fb:m.01p9c3d': [0.5756745288153133, {'fb:common.topic.notable_types', 'fb:music.artist.genre', 'fb:music.artist.album', 'fb:music.artist.track', 'fb:music.artist.label'}], 'fb:m.0gkr0f8': [0.5756745288153133, {'fb:film.film.country', 'fb:film.film.genre'}], 'fb:m.06wrcs3': [0.5756745288153133, {'fb:film.film.genre'}]}\n",
            "====================================================================================================\n"
          ],
          "name": "stdout"
        }
      ]
    },
    {
      "cell_type": "code",
      "metadata": {
        "colab": {
          "base_uri": "https://localhost:8080/"
        },
        "id": "Osm3xKdw49Er",
        "outputId": "8c6a5f75-fd5f-4aeb-f726-d27587ba8ff3"
      },
      "source": [
        "sss"
      ],
      "execution_count": null,
      "outputs": [
        {
          "output_type": "execute_result",
          "data": {
            "text/plain": [
              "[[['fb:m.0n1vy1h', 1.0, 'fb:people.person.gender', 1.0, 'fb:m.05zppz']],\n",
              " [['fb:m.08zwyb',\n",
              "   1.0000000000000002,\n",
              "   'fb:music.composition.composer',\n",
              "   1.0,\n",
              "   'fb:m.01vvyfh']]]"
            ]
          },
          "metadata": {
            "tags": []
          },
          "execution_count": 42
        }
      ]
    },
    {
      "cell_type": "code",
      "metadata": {
        "id": "DnvHL2-RuKeP"
      },
      "source": [
        "from sklearn.metrics.pairwise import cosine_similarity\n",
        "a = cosine_similarity(all_entity_vectors, subject_vectorizer.transform(['choir','orchestra , tommy']*2))\n",
        "# for i in range(0, 1000):\n",
        "# print(cosine_similarity(mid2vector['fb:m.0f__g6'], entity_vectorizer.transform(['orange lake , florida orange lake'])).flatten())"
      ],
      "execution_count": null,
      "outputs": []
    },
    {
      "cell_type": "code",
      "metadata": {
        "colab": {
          "base_uri": "https://localhost:8080/"
        },
        "id": "YAEmdMQZuKeP",
        "outputId": "ee79dafa-c252-4ee9-b628-ad1731d2b146"
      },
      "source": [
        "a[:10]"
      ],
      "execution_count": null,
      "outputs": [
        {
          "output_type": "execute_result",
          "data": {
            "text/plain": [
              "array([[0.        , 0.        , 0.        , 0.        ],\n",
              "       [0.        , 0.        , 0.        , 0.        ],\n",
              "       [0.        , 0.        , 0.        , 0.        ],\n",
              "       [0.        , 0.        , 0.        , 0.        ],\n",
              "       [0.        , 0.        , 0.        , 0.        ],\n",
              "       [0.        , 0.        , 0.        , 0.        ],\n",
              "       [0.        , 0.        , 0.        , 0.        ],\n",
              "       [0.        , 0.        , 0.        , 0.        ],\n",
              "       [0.4809354 , 0.55172393, 0.4809354 , 0.55172393],\n",
              "       [0.        , 0.        , 0.        , 0.        ]])"
            ]
          },
          "metadata": {
            "tags": []
          },
          "execution_count": 10
        }
      ]
    },
    {
      "cell_type": "code",
      "metadata": {
        "id": "eFwdkSEiuKeQ",
        "outputId": "ffab81e6-b520-4265-8f5b-7ebfb9c75305"
      },
      "source": [
        "subject_vectorizer.inverse_transform(all_entity_vectors[:30])"
      ],
      "execution_count": null,
      "outputs": [
        {
          "output_type": "execute_result",
          "data": {
            "text/plain": [
              "[array(['skyshaper'], dtype='<U70'),\n",
              " array(['collection'], dtype='<U70'),\n",
              " array(['83', 'gypsy'], dtype='<U70'),\n",
              " array(['cast', 'revival', 'london', '1971', 'boat', 'show'], dtype='<U70'),\n",
              " array(['surfers', 'movie'], dtype='<U70'),\n",
              " array(['winterreise', 'die'], dtype='<U70'),\n",
              " array(['quarterly', 'rights', 'human'], dtype='<U70'),\n",
              " array(['me', 'remember'], dtype='<U70'),\n",
              " array(['choir', 'chamber', 'orchestra', 'symphony', 'tommy', 'london'],\n",
              "       dtype='<U70'),\n",
              " array(['that', 'smack'], dtype='<U70'),\n",
              " array(['having', 're', 'we', 'weather', 'lovely'], dtype='<U70'),\n",
              " array(['city', 'kansas'], dtype='<U70'),\n",
              " array(['drum'], dtype='<U70'),\n",
              " array(['journey', 'long'], dtype='<U70'),\n",
              " array(['ady', 'cindy'], dtype='<U70'),\n",
              " array(['1999'], dtype='<U70'),\n",
              " array(['landscapes', 'wintry'], dtype='<U70'),\n",
              " array(['platinum', 'the', 'collection'], dtype='<U70'),\n",
              " array(['florida', 'lake', 'orange'], dtype='<U70'),\n",
              " array(['you', 'find', 'until'], dtype='<U70'),\n",
              " array(['breakthrough'], dtype='<U70'),\n",
              " array(['daybreak'], dtype='<U70'),\n",
              " array(['fork', 'heretic'], dtype='<U70'),\n",
              " array(['witherspoon', 'reese'], dtype='<U70'),\n",
              " array(['1995'], dtype='<U70'),\n",
              " array(['sisk', 'doug'], dtype='<U70'),\n",
              " array(['nix', 'dyron'], dtype='<U70'),\n",
              " array(['kashif'], dtype='<U70'),\n",
              " array(['things', 'good', 'all'], dtype='<U70'),\n",
              " array(['mars', 'of', 'conquest', 'edison'], dtype='<U70')]"
            ]
          },
          "metadata": {
            "tags": []
          },
          "execution_count": 43
        }
      ]
    },
    {
      "cell_type": "code",
      "metadata": {
        "id": "ZiHdxonPuKeR",
        "outputId": "90957eda-ec5f-4388-dd38-384ec3f97317"
      },
      "source": [
        "!head -n 10 translated.txt"
      ],
      "execution_count": null,
      "outputs": [
        {
          "output_type": "stream",
          "text": [
            "fb:m.0n1vy1h|###|brandon kramer|###|people|||person|||gender|###|dude guy male man men boy|###|fb:m.05zppz\r\n",
            "fb:m.038b5bg|###|clean your room|###|music|||release|||track|###|des moines|###|fb:m.010btzs\r\n",
            "fb:m.0cz9079|###|turgut doğan şahin|###|soccer|||football_player|||position_s|###|midfield midfielder|###|fb:m.02nzb8\r\n",
            "fb:m.03d1n81|###|rollo john oliver meyer jack meyer|###|organization|||organization_founder|||organizations_founded|###|millfield|###|fb:m.04hk45\r\n",
            "fb:m.03byqr1|###|mare nostrum|###|cvg|||computer_videogame|||cvg_genre|###|tactical shooter|###|fb:m.0_678\r\n",
            "fb:m.0n5xzdf|###|david caffey|###|people|||person|||place_of_birth|###|shelby county / memphis city memphis , tennessee memphis|###|fb:m.0c_m3\r\n",
            "fb:m.02vwbkk|###|luboš kalouda|###|people|||person|||nationality|###|czechoslovakia|###|fb:m.01mk6\r\n",
            "fb:m.02hl5l7|###|spellbreaker|###|cvg|||game_version|||platform|###|msdos dos ms dos ms-dos microsoft disk operating system microsoft dos|###|fb:m.050xd\r\n",
            "fb:m.0b70yxd|###|always goodbye|###|film|||film|||genre|###|drama film /m/02822 dramatic programming drama television drama|###|fb:m.02822\r\n",
            "fb:m.0nd_0ll|###|lisa melamed|###|people|||person|||gender|###|woman gal dame girl women female|###|fb:m.02zsn\r\n"
          ],
          "name": "stdout"
        }
      ]
    },
    {
      "cell_type": "code",
      "metadata": {
        "id": "sti-zx-CuKeS"
      },
      "source": [
        "def query(entity='brandon kramer', predicate='gender', subject_vectors = mid2vector, predicate_vectors=pred2vector):\n",
        "    for index"
      ],
      "execution_count": null,
      "outputs": []
    },
    {
      "cell_type": "code",
      "metadata": {
        "id": "LaNLicgluKeS"
      },
      "source": [
        ""
      ],
      "execution_count": null,
      "outputs": []
    },
    {
      "cell_type": "code",
      "metadata": {
        "id": "W8UZ1vVGuKeT",
        "outputId": "eed32b95-68f0-425a-8055-0e50384873bc"
      },
      "source": [
        "all_entities[:100]"
      ],
      "execution_count": null,
      "outputs": [
        {
          "output_type": "execute_result",
          "data": {
            "text/plain": [
              "['skyshaper',\n",
              " 'collection',\n",
              " 'gypsy 83',\n",
              " 'show boat ( 1971 london revival cast )',\n",
              " 'movie surfers',\n",
              " 'die winterreise',\n",
              " 'human rights quarterly',\n",
              " 'remember me',\n",
              " 'tommy ( london symphony orchestra & chamber choir )',\n",
              " 'smack that',\n",
              " \"lovely weather we 're having\",\n",
              " 'kansas city',\n",
              " 'drum',\n",
              " 'long , long journey',\n",
              " 'cindy ady',\n",
              " '1999',\n",
              " 'wintry landscapes',\n",
              " 'the platinum collection',\n",
              " 'orange lake , florida orange lake',\n",
              " 'until i find you',\n",
              " 'breakthrough',\n",
              " 'daybreak',\n",
              " \"heretic 's fork\",\n",
              " 'reese witherspoon',\n",
              " '1995',\n",
              " 'doug sisk',\n",
              " 'dyron nix',\n",
              " 'kashif',\n",
              " 'all good things',\n",
              " \"edison 's conquest of mars\",\n",
              " 'salomon kalischer',\n",
              " 'take it to the limit',\n",
              " 'fantasy',\n",
              " 'massachusetts',\n",
              " 'morfiend',\n",
              " 'franz ferdinand',\n",
              " 'max tonetto',\n",
              " 'still ( bonus disc : high wycombe hall live 20 february 1980 ) still',\n",
              " \"the world 's greatest sinner\",\n",
              " 'oliver adler',\n",
              " 'tan',\n",
              " 'virtuoso',\n",
              " 'star wars',\n",
              " 'oliver waterman larkin oliver w. larkin',\n",
              " 'walnut hill , philadelphia , pennsylvania walnut hill walnut hill , philadelphia',\n",
              " 'all in one',\n",
              " 'that lucky old sun',\n",
              " 'youichi mihashi yōichi mitsuhashi koichi hashimoto hashimoto koichi kōichi hashimoto mitsuhashi yōichi kouichi hashimoto',\n",
              " 'yōka wao',\n",
              " 'discount brokerage',\n",
              " 'white',\n",
              " 'symphony no. 8 in c minor : iv. finale : feierlich , nicht schnell',\n",
              " 'bulletproof ( tepr tsunaimee remix )',\n",
              " 'africa',\n",
              " 'nude dimensions , volume 2',\n",
              " 'gentleman of the trombone',\n",
              " 'ballinluig ballinluig , scotland',\n",
              " 'scott darvin wells scott wells',\n",
              " 'gaki schluppenheimer evan lee dahl briefcase boy evan dahl evan lee',\n",
              " 'cream ibiza cream ibiza',\n",
              " 'the arcade',\n",
              " 'vilmos kohut',\n",
              " 'a. michael noll',\n",
              " 'steve atkinson',\n",
              " 'fever',\n",
              " 'dreamtime',\n",
              " 'batman',\n",
              " '20 greatest hits',\n",
              " 'unfinished business , volume 1',\n",
              " 'glen johnson',\n",
              " \"she 's like the wind\",\n",
              " 'luminescence',\n",
              " 'cheryl murray',\n",
              " 'ブルージェンダー サントラ ( 1 ) dope gate',\n",
              " 'ion andreescu',\n",
              " 'super fudd northrop grumman e-2 hawkeye the hummer',\n",
              " \"i ca n't go for that ( no can do ) ( extended club mix ) i ca n't go for that ( no can do ) ( the ben liebrand remix ) i ca n't go for that ( no can do ) ( extended version ) i ca n't go for that ( no can do ) ( ben liebrand remix ) i ca n't go for that ( no can do )\",\n",
              " 'christmas prom in christmas land',\n",
              " 'u.s. campobasso 1919',\n",
              " 'james findlay',\n",
              " 'something to remember',\n",
              " 'william dawes miller',\n",
              " 'berlin',\n",
              " 'paint a picture',\n",
              " 'salicin',\n",
              " 'joe somebody',\n",
              " 'love is paramount',\n",
              " 'on a clear day',\n",
              " 'wheat flour , white , all-purpose , enriched , unbleached flour',\n",
              " 'antichrist superstar',\n",
              " \"july '09 ep\",\n",
              " 'i say i say i say',\n",
              " 'symphonies nos. 5 , 6 / der schwan von tuonela',\n",
              " 'domingo french',\n",
              " 'forty shades of blue',\n",
              " \"les triomphes du rhythm'n'blues , volume 4 : roots of rock & roll # 1\",\n",
              " 'another day',\n",
              " 'millwood high school',\n",
              " 'mayor frans banning cocq frans banninck cocq',\n",
              " 'deep purple']"
            ]
          },
          "metadata": {
            "tags": []
          },
          "execution_count": 13
        }
      ]
    },
    {
      "cell_type": "code",
      "metadata": {
        "id": "Yns2rz8SuKeT"
      },
      "source": [
        ""
      ],
      "execution_count": null,
      "outputs": []
    },
    {
      "cell_type": "code",
      "metadata": {
        "id": "q4z-O6xSuKeU"
      },
      "source": [
        ""
      ],
      "execution_count": null,
      "outputs": []
    },
    {
      "cell_type": "code",
      "metadata": {
        "id": "UqvqvvZ1uKeU"
      },
      "source": [
        ""
      ],
      "execution_count": null,
      "outputs": []
    },
    {
      "cell_type": "code",
      "metadata": {
        "id": "KetWK9iduKeU"
      },
      "source": [
        ""
      ],
      "execution_count": null,
      "outputs": []
    },
    {
      "cell_type": "code",
      "metadata": {
        "id": "g38wpScOuKeV"
      },
      "source": [
        ""
      ],
      "execution_count": null,
      "outputs": []
    },
    {
      "cell_type": "code",
      "metadata": {
        "id": "emh-D2NKuKeV"
      },
      "source": [
        ""
      ],
      "execution_count": null,
      "outputs": []
    },
    {
      "cell_type": "code",
      "metadata": {
        "id": "fqmLIyN4uKeV"
      },
      "source": [
        ""
      ],
      "execution_count": null,
      "outputs": []
    },
    {
      "cell_type": "code",
      "metadata": {
        "id": "2AKd6IEfuKeW"
      },
      "source": [
        ""
      ],
      "execution_count": null,
      "outputs": []
    },
    {
      "cell_type": "code",
      "metadata": {
        "id": "eKoZr8W8uKeW"
      },
      "source": [
        ""
      ],
      "execution_count": null,
      "outputs": []
    },
    {
      "cell_type": "code",
      "metadata": {
        "id": "aUz15zyEuKeW"
      },
      "source": [
        ""
      ],
      "execution_count": null,
      "outputs": []
    },
    {
      "cell_type": "code",
      "metadata": {
        "id": "Eta615PhuKeW"
      },
      "source": [
        ""
      ],
      "execution_count": null,
      "outputs": []
    },
    {
      "cell_type": "code",
      "metadata": {
        "id": "IFvTOgdduKeX"
      },
      "source": [
        ""
      ],
      "execution_count": null,
      "outputs": []
    },
    {
      "cell_type": "code",
      "metadata": {
        "id": "Zf4ZxVkduKeX"
      },
      "source": [
        ""
      ],
      "execution_count": null,
      "outputs": []
    },
    {
      "cell_type": "code",
      "metadata": {
        "id": "AmVPV3umuKeX"
      },
      "source": [
        ""
      ],
      "execution_count": null,
      "outputs": []
    },
    {
      "cell_type": "code",
      "metadata": {
        "id": "_9W-DosauKeY"
      },
      "source": [
        ""
      ],
      "execution_count": null,
      "outputs": []
    },
    {
      "cell_type": "code",
      "metadata": {
        "id": "umWqtcJNuKeZ"
      },
      "source": [
        ""
      ],
      "execution_count": null,
      "outputs": []
    },
    {
      "cell_type": "code",
      "metadata": {
        "id": "iQIiA4WRuKeZ"
      },
      "source": [
        ""
      ],
      "execution_count": null,
      "outputs": []
    },
    {
      "cell_type": "code",
      "metadata": {
        "id": "gpjnT2y1uKea"
      },
      "source": [
        ""
      ],
      "execution_count": null,
      "outputs": []
    },
    {
      "cell_type": "code",
      "metadata": {
        "id": "Mo9y91vCuKea"
      },
      "source": [
        ""
      ],
      "execution_count": null,
      "outputs": []
    },
    {
      "cell_type": "code",
      "metadata": {
        "id": "_hqUsbA5uKea"
      },
      "source": [
        ""
      ],
      "execution_count": null,
      "outputs": []
    },
    {
      "cell_type": "code",
      "metadata": {
        "id": "Hsf6HjNouKeb"
      },
      "source": [
        ""
      ],
      "execution_count": null,
      "outputs": []
    },
    {
      "cell_type": "code",
      "metadata": {
        "id": "umqmQqo2uKeb"
      },
      "source": [
        ""
      ],
      "execution_count": null,
      "outputs": []
    },
    {
      "cell_type": "code",
      "metadata": {
        "id": "3IVdxhi9uKeb"
      },
      "source": [
        ""
      ],
      "execution_count": null,
      "outputs": []
    },
    {
      "cell_type": "code",
      "metadata": {
        "colab": {
          "base_uri": "https://localhost:8080/"
        },
        "id": "ybLq2TZS_XcT",
        "outputId": "abe46e2e-4a23-4812-a820-7a3a607958cb"
      },
      "source": [
        "\n",
        "from BuboQA.scripts.util import www2fb, clean_uri\n",
        "i = 1\n",
        "fout = open('translated.txt', 'w')\n",
        "with open('/home/textmining/HDD/mehdi_jafari/git/BERT-QA/BuboQA/data/SimpleQuestions_v2/freebase-subsets/freebase-FB2M.txt', 'r') as fin:\n",
        "  for line in fin:\n",
        "    if i % 500000 == 0:\n",
        "      print(\"line: {}\".format(i))\n",
        "    i+=1\n",
        "    # if i>=300:\n",
        "    #   break \n",
        "    parts = line.strip().split('\\t')\n",
        "    if len(parts) != 3:\n",
        "      print(\"ERROR: line - {}\".format(line))\n",
        "      continue \n",
        "    subject = www2fb(parts[0])\n",
        "    predicate = www2fb(parts[1])\n",
        "    object = www2fb(parts[2])\n",
        "    try:\n",
        "      tmp_subject, tmp_object = subject, object\n",
        "      subject, object = ' '.join(mid2name[subject]), ' '.join(mid2name[object])\n",
        "    except:\n",
        "      continue\n",
        "#     for s in subject:\n",
        "#       for o in object:\n",
        "    predicate = predicate.replace('.', '|||').replace('fb:', '')\n",
        "    fout.write('{}|###|{}|###|{}|###|{}|###|{}\\n'.format(tmp_subject, subject, predicate, object, tmp_object))\n",
        "    \n",
        "fout.close()\n",
        "\n",
        "    \n",
        "    "
      ],
      "execution_count": null,
      "outputs": [
        {
          "output_type": "stream",
          "text": [
            "line: 500000\n",
            "line: 1000000\n",
            "line: 1500000\n",
            "line: 2000000\n",
            "line: 2500000\n",
            "line: 3000000\n",
            "line: 3500000\n",
            "line: 4000000\n",
            "line: 4500000\n",
            "line: 5000000\n",
            "line: 5500000\n",
            "line: 6000000\n",
            "line: 6500000\n",
            "line: 7000000\n",
            "line: 7500000\n",
            "line: 8000000\n",
            "line: 8500000\n",
            "line: 9000000\n",
            "line: 9500000\n",
            "line: 10000000\n",
            "line: 10500000\n"
          ],
          "name": "stdout"
        }
      ]
    },
    {
      "cell_type": "code",
      "metadata": {
        "id": "H_XQnGXIuKed",
        "outputId": "374ede0a-3ca1-4223-b8f9-01fd0a71cc6a"
      },
      "source": [
        "!head -n 10 translated.txt"
      ],
      "execution_count": null,
      "outputs": [
        {
          "output_type": "stream",
          "text": [
            "fb:m.0n1vy1h|###|brandon kramer|###|people|||person|||gender|###|dude guy male man men boy|###|fb:m.05zppz\r\n",
            "fb:m.038b5bg|###|clean your room|###|music|||release|||track|###|des moines|###|fb:m.010btzs\r\n",
            "fb:m.0cz9079|###|turgut doğan şahin|###|soccer|||football_player|||position_s|###|midfield midfielder|###|fb:m.02nzb8\r\n",
            "fb:m.03d1n81|###|rollo john oliver meyer jack meyer|###|organization|||organization_founder|||organizations_founded|###|millfield|###|fb:m.04hk45\r\n",
            "fb:m.03byqr1|###|mare nostrum|###|cvg|||computer_videogame|||cvg_genre|###|tactical shooter|###|fb:m.0_678\r\n",
            "fb:m.0n5xzdf|###|david caffey|###|people|||person|||place_of_birth|###|shelby county / memphis city memphis , tennessee memphis|###|fb:m.0c_m3\r\n",
            "fb:m.02vwbkk|###|luboš kalouda|###|people|||person|||nationality|###|czechoslovakia|###|fb:m.01mk6\r\n",
            "fb:m.02hl5l7|###|spellbreaker|###|cvg|||game_version|||platform|###|msdos dos ms dos ms-dos microsoft disk operating system microsoft dos|###|fb:m.050xd\r\n",
            "fb:m.0b70yxd|###|always goodbye|###|film|||film|||genre|###|drama film /m/02822 dramatic programming drama television drama|###|fb:m.02822\r\n",
            "fb:m.0nd_0ll|###|lisa melamed|###|people|||person|||gender|###|woman gal dame girl women female|###|fb:m.02zsn\r\n"
          ],
          "name": "stdout"
        }
      ]
    },
    {
      "cell_type": "code",
      "metadata": {
        "id": "XiNDIWlxER1Z"
      },
      "source": [
        "from sklearn.feature_extraction.text import TfidfVectorizer\n",
        "batch = 10000\n",
        "class FreebaseKnowledgeBase:\n",
        "    def __init__(self, path='translated.txt'):\n",
        "        subjects = []\n",
        "        predicates = []\n",
        "        with open(path, 'r') as fin:\n",
        "            for index, line in enumerate(fin):\n",
        "                if index % 1000000 == 0:\n",
        "                    print(\"line: {}\".format(index))\n",
        "                s_mid, subject, predicate, _, o_mid = line.strip().split('|###|')\n",
        "                subjects.append(subject)\n",
        "                predicates.append(predicate.replace('_', ' ').split('|||')[-1])\n",
        "#                 if index>=100000:\n",
        "#                     break \n",
        "\n",
        "        print('prob 1')  \n",
        "        self.subject_vectorizer = TfidfVectorizer()\n",
        "        self.predicate_vectorizer = TfidfVectorizer()\n",
        "        self.subject_vectorizer.fit(subjects)\n",
        "        self.predicate_vectorizer.fit(predicates)\n",
        "        del subjects; del predicates\n",
        "        \n",
        "        temp_subjects = []\n",
        "        temp_predicates = []\n",
        "        temp_object_mids = []\n",
        "        temp_subject_mids = []\n",
        "        print('prob 2')  \n",
        "        self.KB = []\n",
        "        with open(path, 'r') as fin:\n",
        "            for index, line in enumerate(fin):\n",
        "                s_mid, subject, predicate, _, o_mid = line.strip().split('|###|')\n",
        "                if index % 100000 == 0:\n",
        "                    print(\"line: {}\".format(index))\n",
        "#                 if index>=100000:\n",
        "#                     break \n",
        "                if len(temp_subjects)<=batch:\n",
        "                    temp_subjects.append(subject)\n",
        "                    temp_predicates.append(predicate.replace('_', ' ').split('|||')[-1])\n",
        "                    temp_subject_mids.append(s_mid)\n",
        "                    temp_object_mids.append(o_mid)\n",
        "                    continue\n",
        "                \n",
        "                temp_subjects_vectors = self.subject_vectorizer.transform(temp_subjects)\n",
        "                temp_predicates_vectors = self.predicate_vectorizer.transform(temp_subjects)\n",
        "                temp_kb = [(s_mid, s_vector, p_vector, o) for s_mid, s_vector, p_vector, o in \n",
        "                            zip(temp_subject_mids, temp_subjects_vectors, temp_predicates_vectors, temp_object_mids)]\n",
        "                \n",
        "                self.KB+=temp_kb\n",
        "                \n",
        "                temp_subjects = []\n",
        "                temp_predicates = []\n",
        "                temp_object_mids = []\n",
        "                temp_subject_mids = []\n",
        "                \n",
        "\n",
        "        \n",
        "        \n"
      ],
      "execution_count": null,
      "outputs": []
    },
    {
      "cell_type": "code",
      "metadata": {
        "colab": {
          "base_uri": "https://localhost:8080/"
        },
        "id": "agMMvw9Hi1pC",
        "outputId": "0d8ae5b7-de1c-4277-a67f-6a04be303812"
      },
      "source": [
        "a = FreebaseKnowledgeBase()"
      ],
      "execution_count": null,
      "outputs": [
        {
          "output_type": "stream",
          "text": [
            "line: 0\n",
            "line: 1000000\n",
            "line: 2000000\n",
            "line: 3000000\n",
            "line: 4000000\n",
            "line: 5000000\n",
            "line: 6000000\n",
            "line: 7000000\n",
            "line: 8000000\n",
            "line: 9000000\n",
            "line: 10000000\n",
            "prob 1\n",
            "prob 2\n",
            "line: 0\n",
            "line: 100000\n",
            "line: 200000\n",
            "line: 300000\n",
            "line: 400000\n",
            "line: 500000\n",
            "line: 600000\n",
            "line: 700000\n",
            "line: 800000\n",
            "line: 900000\n",
            "line: 1000000\n",
            "line: 1100000\n",
            "line: 1200000\n",
            "line: 1300000\n",
            "line: 1400000\n",
            "line: 1500000\n",
            "line: 1600000\n",
            "line: 1700000\n",
            "line: 1800000\n",
            "line: 1900000\n",
            "line: 2000000\n",
            "line: 2100000\n",
            "line: 2200000\n",
            "line: 2300000\n",
            "line: 2400000\n",
            "line: 2500000\n",
            "line: 2600000\n",
            "line: 2700000\n",
            "line: 2800000\n",
            "line: 2900000\n",
            "line: 3000000\n",
            "line: 3100000\n",
            "line: 3200000\n",
            "line: 3300000\n",
            "line: 3400000\n",
            "line: 3500000\n",
            "line: 3600000\n",
            "line: 3700000\n",
            "line: 3800000\n",
            "line: 3900000\n",
            "line: 4000000\n",
            "line: 4100000\n",
            "line: 4200000\n",
            "line: 4300000\n",
            "line: 4400000\n",
            "line: 4500000\n",
            "line: 4600000\n",
            "line: 4700000\n",
            "line: 4800000\n",
            "line: 4900000\n",
            "line: 5000000\n",
            "line: 5100000\n",
            "line: 5200000\n",
            "line: 5300000\n",
            "line: 5400000\n",
            "line: 5500000\n",
            "line: 5600000\n",
            "line: 5700000\n",
            "line: 5800000\n",
            "line: 5900000\n",
            "line: 6000000\n",
            "line: 6100000\n",
            "line: 6200000\n",
            "line: 6300000\n",
            "line: 6400000\n",
            "line: 6500000\n",
            "line: 6600000\n",
            "line: 6700000\n",
            "line: 6800000\n",
            "line: 6900000\n",
            "line: 7000000\n",
            "line: 7100000\n",
            "line: 7200000\n",
            "line: 7300000\n",
            "line: 7400000\n",
            "line: 7500000\n",
            "line: 7600000\n",
            "line: 7700000\n",
            "line: 7800000\n",
            "line: 7900000\n",
            "line: 8000000\n",
            "line: 8100000\n",
            "line: 8200000\n",
            "line: 8300000\n",
            "line: 8400000\n",
            "line: 8500000\n",
            "line: 8600000\n",
            "line: 8700000\n",
            "line: 8800000\n",
            "line: 8900000\n",
            "line: 9000000\n",
            "line: 9100000\n",
            "line: 9200000\n",
            "line: 9300000\n",
            "line: 9400000\n",
            "line: 9500000\n",
            "line: 9600000\n",
            "line: 9700000\n",
            "line: 9800000\n",
            "line: 9900000\n",
            "line: 10000000\n",
            "line: 10100000\n",
            "line: 10200000\n",
            "line: 10300000\n",
            "line: 10400000\n",
            "line: 10500000\n"
          ],
          "name": "stdout"
        }
      ]
    },
    {
      "cell_type": "code",
      "metadata": {
        "id": "rBfElkn0jakp",
        "outputId": "6d089204-691e-4ca5-cd4f-0ded709a0546"
      },
      "source": [
        "a.KB[0]"
      ],
      "execution_count": null,
      "outputs": [
        {
          "output_type": "error",
          "ename": "NameError",
          "evalue": "name 'a' is not defined",
          "traceback": [
            "\u001b[0;31m---------------------------------------------------------------------------\u001b[0m",
            "\u001b[0;31mNameError\u001b[0m                                 Traceback (most recent call last)",
            "\u001b[0;32m<ipython-input-10-82f6531d5426>\u001b[0m in \u001b[0;36m<module>\u001b[0;34m\u001b[0m\n\u001b[0;32m----> 1\u001b[0;31m \u001b[0ma\u001b[0m\u001b[0;34m.\u001b[0m\u001b[0mKB\u001b[0m\u001b[0;34m[\u001b[0m\u001b[0;36m0\u001b[0m\u001b[0;34m]\u001b[0m\u001b[0;34m\u001b[0m\u001b[0;34m\u001b[0m\u001b[0m\n\u001b[0m",
            "\u001b[0;31mNameError\u001b[0m: name 'a' is not defined"
          ]
        }
      ]
    },
    {
      "cell_type": "code",
      "metadata": {
        "id": "_ad9eE-QuKef",
        "outputId": "a20b8779-fd28-4fea-efe9-e339c124b763"
      },
      "source": [
        "import sys\n",
        "\n",
        "sys.getsizeof(a.KB)"
      ],
      "execution_count": null,
      "outputs": [
        {
          "output_type": "execute_result",
          "data": {
            "text/plain": [
              "93339448"
            ]
          },
          "metadata": {
            "tags": []
          },
          "execution_count": 7
        }
      ]
    },
    {
      "cell_type": "code",
      "metadata": {
        "id": "w5opSHi_uKeg"
      },
      "source": [
        "kb = a.KB\n",
        "del a"
      ],
      "execution_count": null,
      "outputs": []
    },
    {
      "cell_type": "code",
      "metadata": {
        "id": "T03-dsawuKeh",
        "outputId": "173515c1-59d0-4fcb-8d87-443e027f917e"
      },
      "source": [
        "from sklearn.metrics.pairwise import cosine_similarity\n",
        "for i in range(0, 1000):\n",
        "    print(cosine_similarity(kb[i][2], kb[0][2]).flatten())"
      ],
      "execution_count": null,
      "outputs": [
        {
          "output_type": "stream",
          "text": [
            "[0.]\n",
            "[0.]\n",
            "[0.]\n",
            "[0.]\n",
            "[0.]\n",
            "[0.]\n",
            "[0.]\n",
            "[0.]\n",
            "[0.]\n",
            "[0.]\n",
            "[0.]\n",
            "[0.]\n",
            "[0.]\n",
            "[0.]\n",
            "[0.]\n",
            "[0.]\n",
            "[0.]\n",
            "[0.]\n",
            "[0.]\n",
            "[0.]\n",
            "[0.]\n",
            "[0.]\n",
            "[0.]\n",
            "[0.]\n",
            "[0.]\n",
            "[0.]\n",
            "[0.]\n",
            "[0.]\n",
            "[0.]\n",
            "[0.]\n",
            "[0.]\n",
            "[0.]\n",
            "[0.]\n",
            "[0.]\n",
            "[0.]\n",
            "[0.]\n",
            "[0.]\n",
            "[0.]\n",
            "[0.]\n",
            "[0.]\n",
            "[0.]\n",
            "[0.]\n",
            "[0.]\n",
            "[0.]\n",
            "[0.]\n",
            "[0.]\n",
            "[0.]\n",
            "[0.]\n",
            "[0.]\n",
            "[0.]\n",
            "[0.]\n",
            "[0.]\n",
            "[0.]\n",
            "[0.]\n",
            "[0.]\n",
            "[0.]\n",
            "[0.]\n",
            "[0.]\n",
            "[0.]\n",
            "[0.]\n",
            "[0.]\n",
            "[0.]\n",
            "[0.]\n",
            "[0.]\n",
            "[0.]\n",
            "[0.]\n",
            "[0.]\n",
            "[0.]\n",
            "[0.]\n",
            "[0.]\n",
            "[0.]\n",
            "[0.]\n",
            "[0.]\n",
            "[0.]\n",
            "[0.]\n",
            "[0.]\n",
            "[0.]\n",
            "[0.]\n",
            "[0.]\n",
            "[0.]\n",
            "[0.]\n",
            "[0.]\n",
            "[0.]\n",
            "[0.]\n",
            "[0.]\n",
            "[0.]\n",
            "[0.]\n",
            "[0.]\n",
            "[0.]\n",
            "[0.]\n",
            "[0.]\n",
            "[0.]\n",
            "[0.]\n",
            "[0.]\n",
            "[0.]\n",
            "[0.]\n",
            "[0.]\n",
            "[0.]\n",
            "[0.]\n",
            "[0.]\n",
            "[0.]\n",
            "[0.]\n",
            "[0.]\n",
            "[0.]\n",
            "[0.]\n",
            "[0.]\n",
            "[0.]\n",
            "[0.]\n",
            "[0.]\n",
            "[0.]\n",
            "[0.]\n",
            "[0.]\n",
            "[0.]\n",
            "[0.]\n",
            "[0.]\n",
            "[0.]\n",
            "[0.]\n",
            "[0.]\n",
            "[0.]\n",
            "[0.]\n",
            "[0.]\n",
            "[0.]\n",
            "[0.]\n",
            "[0.]\n",
            "[0.]\n",
            "[0.]\n",
            "[0.]\n",
            "[0.]\n",
            "[0.]\n",
            "[0.]\n",
            "[0.]\n",
            "[0.]\n",
            "[0.]\n",
            "[0.]\n",
            "[0.]\n",
            "[0.]\n",
            "[0.]\n",
            "[0.]\n",
            "[0.]\n",
            "[0.]\n",
            "[0.]\n",
            "[0.]\n",
            "[0.]\n",
            "[0.]\n",
            "[0.]\n",
            "[0.]\n",
            "[0.]\n",
            "[0.]\n",
            "[0.]\n",
            "[0.]\n",
            "[0.]\n",
            "[0.]\n",
            "[0.]\n",
            "[0.]\n",
            "[0.]\n",
            "[0.]\n",
            "[0.]\n",
            "[0.]\n",
            "[0.]\n",
            "[0.]\n",
            "[0.]\n",
            "[0.]\n",
            "[0.]\n",
            "[0.]\n",
            "[0.]\n",
            "[0.]\n",
            "[0.]\n",
            "[0.]\n",
            "[0.]\n",
            "[0.]\n",
            "[0.]\n",
            "[0.]\n",
            "[0.]\n",
            "[0.]\n",
            "[0.]\n",
            "[0.]\n",
            "[0.]\n",
            "[0.]\n",
            "[0.]\n",
            "[0.]\n",
            "[0.]\n",
            "[0.]\n",
            "[0.]\n",
            "[0.]\n",
            "[0.]\n",
            "[0.]\n",
            "[0.]\n",
            "[0.]\n",
            "[0.]\n",
            "[0.]\n",
            "[0.]\n",
            "[0.]\n",
            "[0.]\n",
            "[0.]\n",
            "[0.]\n",
            "[0.]\n",
            "[0.]\n",
            "[0.]\n",
            "[0.]\n",
            "[0.]\n",
            "[0.]\n",
            "[0.]\n",
            "[0.]\n",
            "[0.]\n",
            "[0.]\n",
            "[0.]\n",
            "[0.]\n",
            "[0.]\n",
            "[0.]\n",
            "[0.]\n",
            "[0.]\n",
            "[0.]\n",
            "[0.]\n",
            "[0.]\n",
            "[0.]\n",
            "[0.]\n",
            "[0.]\n",
            "[0.]\n",
            "[0.]\n",
            "[0.]\n",
            "[0.]\n",
            "[0.]\n",
            "[0.]\n",
            "[0.]\n",
            "[0.]\n",
            "[0.]\n",
            "[0.]\n",
            "[0.]\n",
            "[0.]\n",
            "[0.]\n",
            "[0.]\n",
            "[0.]\n",
            "[0.]\n",
            "[0.]\n",
            "[0.]\n",
            "[0.]\n",
            "[0.]\n",
            "[0.]\n",
            "[0.]\n",
            "[0.]\n",
            "[0.]\n",
            "[0.]\n",
            "[0.]\n",
            "[0.]\n",
            "[0.]\n",
            "[0.]\n",
            "[0.]\n",
            "[0.]\n",
            "[0.]\n",
            "[0.]\n",
            "[0.]\n",
            "[0.]\n",
            "[0.]\n",
            "[0.]\n",
            "[0.]\n",
            "[0.]\n",
            "[0.]\n",
            "[0.]\n",
            "[0.]\n",
            "[0.]\n",
            "[0.]\n",
            "[0.]\n",
            "[0.]\n",
            "[0.]\n",
            "[0.]\n",
            "[0.]\n",
            "[0.]\n",
            "[0.]\n",
            "[0.]\n",
            "[0.]\n",
            "[0.]\n",
            "[0.]\n",
            "[0.]\n",
            "[0.]\n",
            "[0.]\n",
            "[0.]\n",
            "[0.]\n",
            "[0.]\n",
            "[0.]\n",
            "[0.]\n",
            "[0.]\n",
            "[0.]\n",
            "[0.]\n",
            "[0.]\n",
            "[0.]\n",
            "[0.]\n",
            "[0.]\n",
            "[0.]\n",
            "[0.]\n",
            "[0.]\n",
            "[0.]\n",
            "[0.]\n",
            "[0.]\n",
            "[0.]\n",
            "[0.]\n",
            "[0.]\n",
            "[0.]\n",
            "[0.]\n",
            "[0.]\n",
            "[0.]\n",
            "[0.]\n",
            "[0.]\n",
            "[0.]\n",
            "[0.]\n",
            "[0.]\n",
            "[0.]\n",
            "[0.]\n",
            "[0.]\n",
            "[0.]\n",
            "[0.]\n",
            "[0.]\n",
            "[0.]\n",
            "[0.]\n",
            "[0.]\n",
            "[0.]\n",
            "[0.]\n",
            "[0.]\n",
            "[0.]\n",
            "[0.]\n",
            "[0.]\n",
            "[0.]\n",
            "[0.]\n",
            "[0.]\n",
            "[0.]\n",
            "[0.]\n",
            "[0.]\n",
            "[0.]\n",
            "[0.]\n",
            "[0.]\n",
            "[0.]\n",
            "[0.]\n",
            "[0.]\n",
            "[0.]\n",
            "[0.]\n",
            "[0.]\n",
            "[0.]\n",
            "[0.]\n",
            "[0.]\n",
            "[0.]\n",
            "[0.]\n",
            "[0.]\n",
            "[0.]\n",
            "[0.]\n",
            "[0.]\n",
            "[0.]\n",
            "[0.]\n",
            "[0.]\n",
            "[0.]\n",
            "[0.]\n",
            "[0.]\n",
            "[0.]\n",
            "[0.]\n",
            "[0.]\n",
            "[0.]\n",
            "[0.]\n",
            "[0.]\n",
            "[0.]\n",
            "[0.]\n",
            "[0.]\n",
            "[0.]\n",
            "[0.]\n",
            "[0.]\n",
            "[0.]\n",
            "[0.]\n",
            "[0.]\n",
            "[0.]\n",
            "[0.]\n",
            "[0.]\n",
            "[0.]\n",
            "[0.]\n",
            "[0.]\n",
            "[0.]\n",
            "[0.]\n",
            "[0.]\n",
            "[0.]\n",
            "[0.]\n",
            "[0.]\n",
            "[0.]\n",
            "[0.]\n",
            "[0.]\n",
            "[0.]\n",
            "[0.]\n",
            "[0.]\n",
            "[0.]\n",
            "[0.]\n",
            "[0.]\n",
            "[0.]\n",
            "[0.]\n",
            "[0.]\n",
            "[0.]\n",
            "[0.]\n",
            "[0.]\n",
            "[0.]\n",
            "[0.]\n",
            "[0.]\n",
            "[0.]\n",
            "[0.]\n",
            "[0.]\n",
            "[0.]\n",
            "[0.]\n",
            "[0.]\n",
            "[0.]\n",
            "[0.]\n",
            "[0.]\n",
            "[0.]\n",
            "[0.]\n",
            "[0.]\n",
            "[0.]\n",
            "[0.]\n",
            "[0.]\n",
            "[0.]\n",
            "[0.]\n",
            "[0.]\n",
            "[0.]\n",
            "[0.]\n",
            "[0.]\n",
            "[0.]\n",
            "[0.]\n",
            "[0.]\n",
            "[0.]\n",
            "[0.]\n",
            "[0.]\n",
            "[0.]\n",
            "[0.]\n",
            "[0.]\n",
            "[0.]\n",
            "[0.]\n",
            "[0.]\n",
            "[0.]\n",
            "[0.]\n",
            "[0.]\n",
            "[0.]\n",
            "[0.]\n",
            "[0.]\n",
            "[0.]\n",
            "[0.]\n",
            "[0.]\n",
            "[0.]\n",
            "[0.]\n",
            "[0.]\n",
            "[0.]\n",
            "[0.]\n",
            "[0.]\n",
            "[0.]\n",
            "[0.]\n",
            "[0.]\n",
            "[0.]\n",
            "[0.]\n",
            "[0.]\n",
            "[0.]\n",
            "[0.]\n",
            "[0.]\n",
            "[0.]\n",
            "[0.]\n",
            "[0.]\n",
            "[0.]\n",
            "[0.]\n",
            "[0.]\n",
            "[0.]\n",
            "[0.]\n",
            "[0.]\n",
            "[0.]\n",
            "[0.]\n",
            "[0.]\n",
            "[0.]\n",
            "[0.]\n",
            "[0.]\n",
            "[0.]\n",
            "[0.]\n",
            "[0.]\n",
            "[0.]\n",
            "[0.]\n",
            "[0.]\n",
            "[0.]\n",
            "[0.]\n",
            "[0.]\n",
            "[0.]\n",
            "[0.]\n",
            "[0.]\n",
            "[0.]\n",
            "[0.]\n",
            "[0.]\n",
            "[0.]\n",
            "[0.]\n",
            "[0.]\n",
            "[0.]\n",
            "[0.]\n",
            "[0.]\n",
            "[0.]\n",
            "[0.]\n",
            "[0.]\n",
            "[0.]\n",
            "[0.]\n",
            "[0.]\n",
            "[0.]\n",
            "[0.]\n",
            "[0.]\n",
            "[0.]\n",
            "[0.]\n",
            "[0.]\n",
            "[0.]\n",
            "[0.]\n",
            "[0.]\n",
            "[0.]\n",
            "[0.]\n",
            "[0.]\n",
            "[0.]\n",
            "[0.]\n",
            "[0.]\n",
            "[0.]\n",
            "[0.]\n",
            "[0.]\n",
            "[0.]\n",
            "[0.]\n",
            "[0.]\n",
            "[0.]\n",
            "[0.]\n",
            "[0.]\n",
            "[0.]\n",
            "[0.]\n",
            "[0.]\n",
            "[0.]\n",
            "[0.]\n",
            "[0.]\n",
            "[0.]\n",
            "[0.]\n",
            "[0.]\n",
            "[0.]\n",
            "[0.]\n",
            "[0.]\n",
            "[0.]\n",
            "[0.]\n",
            "[0.]\n",
            "[0.]\n",
            "[0.]\n",
            "[0.]\n",
            "[0.]\n",
            "[0.]\n",
            "[0.]\n",
            "[0.]\n",
            "[0.]\n",
            "[0.]\n",
            "[0.]\n",
            "[0.]\n",
            "[0.]\n",
            "[0.]\n",
            "[0.]\n",
            "[0.]\n",
            "[0.]\n",
            "[0.]\n",
            "[0.]\n",
            "[0.]\n",
            "[0.]\n",
            "[0.]\n",
            "[0.]\n",
            "[0.]\n",
            "[0.]\n",
            "[0.]\n",
            "[0.]\n",
            "[0.]\n",
            "[0.]\n",
            "[0.]\n",
            "[0.]\n",
            "[0.]\n",
            "[0.]\n",
            "[0.]\n",
            "[0.]\n",
            "[0.]\n",
            "[0.]\n",
            "[0.]\n",
            "[0.]\n",
            "[0.]\n",
            "[0.]\n",
            "[0.]\n",
            "[0.]\n",
            "[0.]\n",
            "[0.]\n",
            "[0.]\n",
            "[0.]\n",
            "[0.]\n",
            "[0.]\n",
            "[0.]\n",
            "[0.]\n",
            "[0.]\n",
            "[0.]\n",
            "[0.]\n",
            "[0.]\n",
            "[0.]\n",
            "[0.]\n",
            "[0.]\n",
            "[0.]\n",
            "[0.]\n",
            "[0.]\n",
            "[0.]\n",
            "[0.]\n",
            "[0.]\n",
            "[0.]\n",
            "[0.]\n",
            "[0.]\n",
            "[0.]\n",
            "[0.]\n",
            "[0.]\n",
            "[0.]\n",
            "[0.]\n",
            "[0.]\n",
            "[0.]\n",
            "[0.]\n",
            "[0.]\n",
            "[0.]\n",
            "[0.]\n",
            "[0.]\n",
            "[0.]\n",
            "[0.]\n",
            "[0.]\n",
            "[0.]\n",
            "[0.]\n",
            "[0.]\n",
            "[0.]\n",
            "[0.]\n",
            "[0.]\n",
            "[0.]\n",
            "[0.]\n",
            "[0.]\n",
            "[0.]\n",
            "[0.]\n",
            "[0.]\n",
            "[0.]\n",
            "[0.]\n",
            "[0.]\n",
            "[0.]\n",
            "[0.]\n",
            "[0.]\n",
            "[0.]\n",
            "[0.]\n",
            "[0.]\n",
            "[0.]\n",
            "[0.]\n",
            "[0.]\n",
            "[0.]\n",
            "[0.]\n",
            "[0.]\n",
            "[0.]\n",
            "[0.]\n",
            "[0.]\n",
            "[0.]\n",
            "[0.]\n",
            "[0.]\n",
            "[0.]\n",
            "[0.]\n",
            "[0.]\n",
            "[0.]\n",
            "[0.]\n",
            "[0.]\n",
            "[0.]\n",
            "[0.]\n",
            "[0.]\n",
            "[0.]\n",
            "[0.]\n",
            "[0.]\n",
            "[0.]\n",
            "[0.]\n",
            "[0.]\n",
            "[0.]\n",
            "[0.]\n",
            "[0.]\n",
            "[0.]\n",
            "[0.]\n",
            "[0.]\n",
            "[0.]\n",
            "[0.]\n",
            "[0.]\n",
            "[0.]\n",
            "[0.]\n",
            "[0.]\n",
            "[0.]\n",
            "[0.]\n",
            "[0.]\n",
            "[0.]\n",
            "[0.]\n",
            "[0.]\n",
            "[0.]\n",
            "[0.]\n",
            "[0.]\n",
            "[0.]\n",
            "[0.]\n",
            "[0.]\n",
            "[0.]\n",
            "[0.]\n",
            "[0.]\n",
            "[0.]\n",
            "[0.]\n",
            "[0.]\n",
            "[0.]\n",
            "[0.]\n",
            "[0.]\n",
            "[0.]\n",
            "[0.]\n",
            "[0.]\n",
            "[0.]\n",
            "[0.]\n",
            "[0.]\n",
            "[0.]\n",
            "[0.]\n",
            "[0.]\n",
            "[0.]\n",
            "[0.]\n",
            "[0.]\n",
            "[0.]\n",
            "[0.]\n",
            "[0.]\n",
            "[0.]\n",
            "[0.]\n",
            "[0.]\n",
            "[0.]\n",
            "[0.]\n",
            "[0.]\n",
            "[0.]\n",
            "[0.]\n",
            "[0.]\n",
            "[0.]\n",
            "[0.]\n",
            "[0.]\n",
            "[0.]\n",
            "[0.]\n",
            "[0.]\n",
            "[0.]\n",
            "[0.]\n",
            "[0.]\n",
            "[0.]\n",
            "[0.]\n",
            "[0.]\n",
            "[0.]\n",
            "[0.]\n",
            "[0.]\n",
            "[0.]\n",
            "[0.]\n",
            "[0.]\n",
            "[0.]\n",
            "[0.]\n",
            "[0.]\n",
            "[0.]\n",
            "[0.]\n",
            "[0.]\n",
            "[0.]\n",
            "[0.]\n",
            "[0.]\n",
            "[0.]\n",
            "[0.]\n",
            "[0.]\n",
            "[0.]\n",
            "[0.]\n",
            "[0.]\n",
            "[0.]\n",
            "[0.]\n",
            "[0.]\n",
            "[0.]\n",
            "[0.]\n",
            "[0.]\n",
            "[0.]\n",
            "[0.]\n",
            "[0.]\n",
            "[0.]\n",
            "[0.]\n",
            "[0.]\n",
            "[0.]\n",
            "[0.]\n",
            "[0.]\n",
            "[0.]\n",
            "[0.]\n",
            "[0.]\n",
            "[0.]\n",
            "[0.]\n",
            "[0.]\n",
            "[0.]\n",
            "[0.]\n",
            "[0.]\n",
            "[0.]\n",
            "[0.]\n",
            "[0.]\n",
            "[0.]\n",
            "[0.]\n",
            "[0.]\n",
            "[0.]\n",
            "[0.]\n",
            "[0.]\n",
            "[0.]\n",
            "[0.]\n",
            "[0.]\n",
            "[0.]\n",
            "[0.]\n",
            "[0.]\n",
            "[0.]\n",
            "[0.]\n",
            "[0.]\n",
            "[0.]\n",
            "[0.]\n",
            "[0.]\n",
            "[0.]\n",
            "[0.]\n",
            "[0.]\n",
            "[0.]\n",
            "[0.]\n",
            "[0.]\n",
            "[0.]\n",
            "[0.]\n",
            "[0.]\n",
            "[0.]\n",
            "[0.]\n",
            "[0.]\n",
            "[0.]\n",
            "[0.]\n",
            "[0.]\n",
            "[0.]\n",
            "[0.]\n",
            "[0.]\n",
            "[0.]\n",
            "[0.]\n",
            "[0.]\n",
            "[0.]\n",
            "[0.]\n",
            "[0.]\n",
            "[0.]\n",
            "[0.]\n",
            "[0.]\n",
            "[0.]\n",
            "[0.]\n",
            "[0.]\n",
            "[0.]\n",
            "[0.]\n",
            "[0.]\n",
            "[0.]\n",
            "[0.]\n",
            "[0.]\n",
            "[0.]\n",
            "[0.]\n",
            "[0.]\n",
            "[0.]\n",
            "[0.]\n",
            "[0.]\n",
            "[0.]\n",
            "[0.]\n",
            "[0.]\n",
            "[0.]\n",
            "[0.]\n",
            "[0.]\n",
            "[0.]\n",
            "[0.]\n",
            "[0.]\n",
            "[0.]\n",
            "[0.]\n",
            "[0.]\n",
            "[0.]\n",
            "[0.]\n",
            "[0.]\n",
            "[0.]\n",
            "[0.]\n",
            "[0.]\n",
            "[0.]\n",
            "[0.]\n",
            "[0.]\n",
            "[0.]\n",
            "[0.]\n",
            "[0.]\n",
            "[0.]\n",
            "[0.]\n",
            "[0.]\n",
            "[0.]\n",
            "[0.]\n",
            "[0.]\n",
            "[0.]\n",
            "[0.]\n",
            "[0.]\n",
            "[0.]\n",
            "[0.]\n",
            "[0.]\n",
            "[0.]\n",
            "[0.]\n",
            "[0.]\n",
            "[0.]\n",
            "[0.]\n",
            "[0.]\n",
            "[0.]\n",
            "[0.]\n",
            "[0.]\n",
            "[0.]\n",
            "[0.]\n",
            "[0.]\n",
            "[0.]\n",
            "[0.]\n",
            "[0.]\n",
            "[0.]\n",
            "[0.]\n",
            "[0.]\n",
            "[0.]\n",
            "[0.]\n",
            "[0.]\n",
            "[0.]\n",
            "[0.]\n",
            "[0.]\n",
            "[0.]\n",
            "[0.]\n",
            "[0.]\n",
            "[0.]\n",
            "[0.]\n",
            "[0.]\n",
            "[0.]\n",
            "[0.]\n",
            "[0.]\n",
            "[0.]\n",
            "[0.]\n",
            "[0.]\n",
            "[0.]\n",
            "[0.]\n",
            "[0.]\n",
            "[0.]\n",
            "[0.]\n",
            "[0.]\n",
            "[0.]\n",
            "[0.]\n",
            "[0.]\n",
            "[0.]\n",
            "[0.]\n",
            "[0.]\n",
            "[0.]\n",
            "[0.]\n",
            "[0.]\n",
            "[0.]\n",
            "[0.]\n",
            "[0.]\n",
            "[0.]\n",
            "[0.]\n",
            "[0.]\n",
            "[0.]\n",
            "[0.]\n",
            "[0.]\n",
            "[0.]\n",
            "[0.]\n",
            "[0.]\n",
            "[0.]\n",
            "[0.]\n",
            "[0.]\n",
            "[0.]\n",
            "[0.]\n",
            "[0.]\n",
            "[0.]\n",
            "[0.]\n",
            "[0.]\n",
            "[0.]\n",
            "[0.]\n",
            "[0.]\n",
            "[0.]\n",
            "[0.]\n",
            "[0.]\n",
            "[0.]\n",
            "[0.]\n",
            "[0.]\n",
            "[0.]\n",
            "[0.]\n",
            "[0.]\n",
            "[0.]\n",
            "[0.]\n",
            "[0.]\n",
            "[0.]\n",
            "[0.]\n",
            "[0.]\n",
            "[0.]\n",
            "[0.]\n",
            "[0.]\n",
            "[0.]\n",
            "[0.]\n",
            "[0.]\n",
            "[0.]\n",
            "[0.]\n",
            "[0.]\n",
            "[0.]\n",
            "[0.]\n",
            "[0.]\n",
            "[0.]\n",
            "[0.]\n",
            "[0.]\n",
            "[0.]\n",
            "[0.]\n",
            "[0.]\n",
            "[0.]\n",
            "[0.]\n",
            "[0.]\n",
            "[0.]\n",
            "[0.]\n",
            "[0.]\n",
            "[0.]\n",
            "[0.]\n",
            "[0.]\n",
            "[0.]\n",
            "[0.]\n",
            "[0.]\n",
            "[0.]\n",
            "[0.]\n",
            "[0.]\n",
            "[0.]\n",
            "[0.]\n"
          ],
          "name": "stdout"
        }
      ]
    },
    {
      "cell_type": "code",
      "metadata": {
        "id": "E9pMLNunuKei",
        "outputId": "44081ffd-3579-4cde-df59-24165df10571"
      },
      "source": [
        "def query(subject='brandon kramer', predicate='gender', KB=kb, candidates=50):\n",
        "    entity_candidates = []\n",
        "    "
      ],
      "execution_count": null,
      "outputs": [
        {
          "output_type": "execute_result",
          "data": {
            "text/plain": [
              "('fb:m.0n1vy1h',\n",
              " <1x650791 sparse matrix of type '<class 'numpy.float64'>'\n",
              " \twith 2 stored elements in Compressed Sparse Row format>,\n",
              " <1x3062 sparse matrix of type '<class 'numpy.float64'>'\n",
              " \twith 0 stored elements in Compressed Sparse Row format>,\n",
              " 'fb:m.05zppz')"
            ]
          },
          "metadata": {
            "tags": []
          },
          "execution_count": 9
        }
      ]
    },
    {
      "cell_type": "code",
      "metadata": {
        "id": "J0rsujlsuKej"
      },
      "source": [
        ""
      ],
      "execution_count": null,
      "outputs": []
    },
    {
      "cell_type": "code",
      "metadata": {
        "id": "Mn1wmVQIbEdz"
      },
      "source": [
        ""
      ],
      "execution_count": null,
      "outputs": []
    }
  ]
}